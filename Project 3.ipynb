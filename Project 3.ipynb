{
 "cells": [
  {
   "cell_type": "code",
   "execution_count": 156,
   "metadata": {},
   "outputs": [],
   "source": [
    "# df = pd.DataFrame(data = carloans, columns=colNames)\n",
    "\n",
    "# Approach 1 List\n",
    "import pandas as pd\n",
    "\n",
    "carLoans = [[1, 34689, 687, 202, 184], [2, 34205, 687, 200, 487], [3, 33718, 687, 197, 489]]\n",
    "colNames = ['Month', 'Starting Balance', 'Repayment', 'Interest Paid', 'Principal Paid']"
   ]
  },
  {
   "cell_type": "code",
   "execution_count": 157,
   "metadata": {},
   "outputs": [],
   "source": [
    "df = pd.DataFrame(data = carLoans, columns=colNames)"
   ]
  },
  {
   "cell_type": "code",
   "execution_count": 158,
   "metadata": {},
   "outputs": [
    {
     "data": {
      "text/html": [
       "<div>\n",
       "<style scoped>\n",
       "    .dataframe tbody tr th:only-of-type {\n",
       "        vertical-align: middle;\n",
       "    }\n",
       "\n",
       "    .dataframe tbody tr th {\n",
       "        vertical-align: top;\n",
       "    }\n",
       "\n",
       "    .dataframe thead th {\n",
       "        text-align: right;\n",
       "    }\n",
       "</style>\n",
       "<table border=\"1\" class=\"dataframe\">\n",
       "  <thead>\n",
       "    <tr style=\"text-align: right;\">\n",
       "      <th></th>\n",
       "      <th>Month</th>\n",
       "      <th>Starting Balance</th>\n",
       "      <th>Repayment</th>\n",
       "      <th>Interest Paid</th>\n",
       "      <th>Principal Paid</th>\n",
       "    </tr>\n",
       "  </thead>\n",
       "  <tbody>\n",
       "    <tr>\n",
       "      <th>0</th>\n",
       "      <td>1</td>\n",
       "      <td>34689</td>\n",
       "      <td>687</td>\n",
       "      <td>202</td>\n",
       "      <td>184</td>\n",
       "    </tr>\n",
       "    <tr>\n",
       "      <th>1</th>\n",
       "      <td>2</td>\n",
       "      <td>34205</td>\n",
       "      <td>687</td>\n",
       "      <td>200</td>\n",
       "      <td>487</td>\n",
       "    </tr>\n",
       "    <tr>\n",
       "      <th>2</th>\n",
       "      <td>3</td>\n",
       "      <td>33718</td>\n",
       "      <td>687</td>\n",
       "      <td>197</td>\n",
       "      <td>489</td>\n",
       "    </tr>\n",
       "  </tbody>\n",
       "</table>\n",
       "</div>"
      ],
      "text/plain": [
       "   Month  Starting Balance  Repayment  Interest Paid  Principal Paid\n",
       "0      1             34689        687            202             184\n",
       "1      2             34205        687            200             487\n",
       "2      3             33718        687            197             489"
      ]
     },
     "execution_count": 158,
     "metadata": {},
     "output_type": "execute_result"
    }
   ],
   "source": [
    "df"
   ]
  },
  {
   "cell_type": "code",
   "execution_count": 159,
   "metadata": {},
   "outputs": [],
   "source": [
    "# Approach 2 Numpy array - more efficient than list\n",
    "import numpy as np\n",
    "carLoans = np.array([[1, 34689, 687, 202, 484, 34205, 60, 0.0702, \"Nissan Altima\"], [2, 34205, 687, 200, 487, 33718, 60, 0.035, \"Toyota Corolla\"], [3, 33718, 687, 197, 489, 33228, 60, 0.0702, \"Nissan Altima\"], [4, 33228, 687, 194, 492, 32735, 60, 0.0702, \"Nissan Altima\"], [5, 32735, 687, 191, 495, 32239, 60, 0.0702, \"Nissan Altima\"]])\n",
    "colNames = ['Month', 'Starting Balance', 'Repayment', 'Interest Paid', 'Principal Paid', 'New_Balance', 'term', 'interest_rate', 'car_type']"
   ]
  },
  {
   "cell_type": "code",
   "execution_count": 160,
   "metadata": {},
   "outputs": [
    {
     "data": {
      "text/html": [
       "<div>\n",
       "<style scoped>\n",
       "    .dataframe tbody tr th:only-of-type {\n",
       "        vertical-align: middle;\n",
       "    }\n",
       "\n",
       "    .dataframe tbody tr th {\n",
       "        vertical-align: top;\n",
       "    }\n",
       "\n",
       "    .dataframe thead th {\n",
       "        text-align: right;\n",
       "    }\n",
       "</style>\n",
       "<table border=\"1\" class=\"dataframe\">\n",
       "  <thead>\n",
       "    <tr style=\"text-align: right;\">\n",
       "      <th></th>\n",
       "      <th>Month</th>\n",
       "      <th>Starting Balance</th>\n",
       "      <th>Repayment</th>\n",
       "      <th>Interest Paid</th>\n",
       "      <th>Principal Paid</th>\n",
       "      <th>New_Balance</th>\n",
       "      <th>term</th>\n",
       "      <th>interest_rate</th>\n",
       "      <th>car_type</th>\n",
       "    </tr>\n",
       "  </thead>\n",
       "  <tbody>\n",
       "    <tr>\n",
       "      <th>0</th>\n",
       "      <td>1</td>\n",
       "      <td>34689</td>\n",
       "      <td>687</td>\n",
       "      <td>202</td>\n",
       "      <td>484</td>\n",
       "      <td>34205</td>\n",
       "      <td>60</td>\n",
       "      <td>0.0702</td>\n",
       "      <td>Nissan Altima</td>\n",
       "    </tr>\n",
       "    <tr>\n",
       "      <th>1</th>\n",
       "      <td>2</td>\n",
       "      <td>34205</td>\n",
       "      <td>687</td>\n",
       "      <td>200</td>\n",
       "      <td>487</td>\n",
       "      <td>33718</td>\n",
       "      <td>60</td>\n",
       "      <td>0.035</td>\n",
       "      <td>Toyota Corolla</td>\n",
       "    </tr>\n",
       "    <tr>\n",
       "      <th>2</th>\n",
       "      <td>3</td>\n",
       "      <td>33718</td>\n",
       "      <td>687</td>\n",
       "      <td>197</td>\n",
       "      <td>489</td>\n",
       "      <td>33228</td>\n",
       "      <td>60</td>\n",
       "      <td>0.0702</td>\n",
       "      <td>Nissan Altima</td>\n",
       "    </tr>\n",
       "    <tr>\n",
       "      <th>3</th>\n",
       "      <td>4</td>\n",
       "      <td>33228</td>\n",
       "      <td>687</td>\n",
       "      <td>194</td>\n",
       "      <td>492</td>\n",
       "      <td>32735</td>\n",
       "      <td>60</td>\n",
       "      <td>0.0702</td>\n",
       "      <td>Nissan Altima</td>\n",
       "    </tr>\n",
       "    <tr>\n",
       "      <th>4</th>\n",
       "      <td>5</td>\n",
       "      <td>32735</td>\n",
       "      <td>687</td>\n",
       "      <td>191</td>\n",
       "      <td>495</td>\n",
       "      <td>32239</td>\n",
       "      <td>60</td>\n",
       "      <td>0.0702</td>\n",
       "      <td>Nissan Altima</td>\n",
       "    </tr>\n",
       "  </tbody>\n",
       "</table>\n",
       "</div>"
      ],
      "text/plain": [
       "  Month Starting Balance Repayment Interest Paid Principal Paid New_Balance  \\\n",
       "0     1            34689       687           202            484       34205   \n",
       "1     2            34205       687           200            487       33718   \n",
       "2     3            33718       687           197            489       33228   \n",
       "3     4            33228       687           194            492       32735   \n",
       "4     5            32735       687           191            495       32239   \n",
       "\n",
       "  term interest_rate        car_type  \n",
       "0   60        0.0702   Nissan Altima  \n",
       "1   60         0.035  Toyota Corolla  \n",
       "2   60        0.0702   Nissan Altima  \n",
       "3   60        0.0702   Nissan Altima  \n",
       "4   60        0.0702   Nissan Altima  "
      ]
     },
     "execution_count": 160,
     "metadata": {},
     "output_type": "execute_result"
    }
   ],
   "source": [
    "df = pd.DataFrame(data = carLoans, columns=colNames)\n",
    "#type(df)\n",
    "df"
   ]
  },
  {
   "cell_type": "code",
   "execution_count": 10,
   "metadata": {},
   "outputs": [],
   "source": [
    "# Approach 3 - Dictionary "
   ]
  },
  {
   "cell_type": "code",
   "execution_count": 161,
   "metadata": {},
   "outputs": [
    {
     "data": {
      "text/html": [
       "<div>\n",
       "<style scoped>\n",
       "    .dataframe tbody tr th:only-of-type {\n",
       "        vertical-align: middle;\n",
       "    }\n",
       "\n",
       "    .dataframe tbody tr th {\n",
       "        vertical-align: top;\n",
       "    }\n",
       "\n",
       "    .dataframe thead th {\n",
       "        text-align: right;\n",
       "    }\n",
       "</style>\n",
       "<table border=\"1\" class=\"dataframe\">\n",
       "  <thead>\n",
       "    <tr style=\"text-align: right;\">\n",
       "      <th></th>\n",
       "      <th>Month</th>\n",
       "      <th>Starting Balance</th>\n",
       "      <th>Repayment</th>\n",
       "      <th>Interest Paid</th>\n",
       "      <th>Principal Paid</th>\n",
       "      <th>New_Balance</th>\n",
       "      <th>term</th>\n",
       "      <th>interest_rate</th>\n",
       "      <th>car_type</th>\n",
       "    </tr>\n",
       "  </thead>\n",
       "  <tbody>\n",
       "    <tr>\n",
       "      <th>0</th>\n",
       "      <td>1</td>\n",
       "      <td>34689</td>\n",
       "      <td>687</td>\n",
       "      <td>202</td>\n",
       "      <td>484</td>\n",
       "      <td>34205</td>\n",
       "      <td>60</td>\n",
       "      <td>0.0702</td>\n",
       "      <td>Nissan Altima</td>\n",
       "    </tr>\n",
       "    <tr>\n",
       "      <th>1</th>\n",
       "      <td>2</td>\n",
       "      <td>34205</td>\n",
       "      <td>687</td>\n",
       "      <td>200</td>\n",
       "      <td>487</td>\n",
       "      <td>33718</td>\n",
       "      <td>60</td>\n",
       "      <td>0.035</td>\n",
       "      <td>Toyota Corolla</td>\n",
       "    </tr>\n",
       "  </tbody>\n",
       "</table>\n",
       "</div>"
      ],
      "text/plain": [
       "  Month Starting Balance Repayment Interest Paid Principal Paid New_Balance  \\\n",
       "0     1            34689       687           202            484       34205   \n",
       "1     2            34205       687           200            487       33718   \n",
       "\n",
       "  term interest_rate        car_type  \n",
       "0   60        0.0702   Nissan Altima  \n",
       "1   60         0.035  Toyota Corolla  "
      ]
     },
     "execution_count": 161,
     "metadata": {},
     "output_type": "execute_result"
    }
   ],
   "source": [
    "# df = pd.read_csv(filename)\n",
    "# df = pd.read_excel(filename)\n",
    "\n",
    "# Next  look at the head and tail of your data set\n",
    "df.head(2)"
   ]
  },
  {
   "cell_type": "code",
   "execution_count": 162,
   "metadata": {},
   "outputs": [
    {
     "data": {
      "text/html": [
       "<div>\n",
       "<style scoped>\n",
       "    .dataframe tbody tr th:only-of-type {\n",
       "        vertical-align: middle;\n",
       "    }\n",
       "\n",
       "    .dataframe tbody tr th {\n",
       "        vertical-align: top;\n",
       "    }\n",
       "\n",
       "    .dataframe thead th {\n",
       "        text-align: right;\n",
       "    }\n",
       "</style>\n",
       "<table border=\"1\" class=\"dataframe\">\n",
       "  <thead>\n",
       "    <tr style=\"text-align: right;\">\n",
       "      <th></th>\n",
       "      <th>Month</th>\n",
       "      <th>Starting Balance</th>\n",
       "      <th>Repayment</th>\n",
       "      <th>Interest Paid</th>\n",
       "      <th>Principal Paid</th>\n",
       "      <th>New_Balance</th>\n",
       "      <th>term</th>\n",
       "      <th>interest_rate</th>\n",
       "      <th>car_type</th>\n",
       "    </tr>\n",
       "  </thead>\n",
       "  <tbody>\n",
       "    <tr>\n",
       "      <th>3</th>\n",
       "      <td>4</td>\n",
       "      <td>33228</td>\n",
       "      <td>687</td>\n",
       "      <td>194</td>\n",
       "      <td>492</td>\n",
       "      <td>32735</td>\n",
       "      <td>60</td>\n",
       "      <td>0.0702</td>\n",
       "      <td>Nissan Altima</td>\n",
       "    </tr>\n",
       "    <tr>\n",
       "      <th>4</th>\n",
       "      <td>5</td>\n",
       "      <td>32735</td>\n",
       "      <td>687</td>\n",
       "      <td>191</td>\n",
       "      <td>495</td>\n",
       "      <td>32239</td>\n",
       "      <td>60</td>\n",
       "      <td>0.0702</td>\n",
       "      <td>Nissan Altima</td>\n",
       "    </tr>\n",
       "  </tbody>\n",
       "</table>\n",
       "</div>"
      ],
      "text/plain": [
       "  Month Starting Balance Repayment Interest Paid Principal Paid New_Balance  \\\n",
       "3     4            33228       687           194            492       32735   \n",
       "4     5            32735       687           191            495       32239   \n",
       "\n",
       "  term interest_rate       car_type  \n",
       "3   60        0.0702  Nissan Altima  \n",
       "4   60        0.0702  Nissan Altima  "
      ]
     },
     "execution_count": 162,
     "metadata": {},
     "output_type": "execute_result"
    }
   ],
   "source": [
    "df.tail(2)"
   ]
  },
  {
   "cell_type": "code",
   "execution_count": 163,
   "metadata": {},
   "outputs": [
    {
     "name": "stdout",
     "output_type": "stream",
     "text": [
      "<class 'pandas.core.frame.DataFrame'>\n",
      "RangeIndex: 5 entries, 0 to 4\n",
      "Data columns (total 9 columns):\n",
      "Month               5 non-null object\n",
      "Starting Balance    5 non-null object\n",
      "Repayment           5 non-null object\n",
      "Interest Paid       5 non-null object\n",
      "Principal Paid      5 non-null object\n",
      "New_Balance         5 non-null object\n",
      "term                5 non-null object\n",
      "interest_rate       5 non-null object\n",
      "car_type            5 non-null object\n",
      "dtypes: object(9)\n",
      "memory usage: 440.0+ bytes\n"
     ]
    }
   ],
   "source": [
    "#check the column data df.dtypes and df.shape (shows how many rows and columns are contained in your dataset.)\n",
    "df.info()"
   ]
  },
  {
   "cell_type": "markdown",
   "metadata": {},
   "source": [
    "## Slicing"
   ]
  },
  {
   "cell_type": "code",
   "execution_count": 164,
   "metadata": {},
   "outputs": [
    {
     "data": {
      "text/html": [
       "<div>\n",
       "<style scoped>\n",
       "    .dataframe tbody tr th:only-of-type {\n",
       "        vertical-align: middle;\n",
       "    }\n",
       "\n",
       "    .dataframe tbody tr th {\n",
       "        vertical-align: top;\n",
       "    }\n",
       "\n",
       "    .dataframe thead th {\n",
       "        text-align: right;\n",
       "    }\n",
       "</style>\n",
       "<table border=\"1\" class=\"dataframe\">\n",
       "  <thead>\n",
       "    <tr style=\"text-align: right;\">\n",
       "      <th></th>\n",
       "      <th>car_type</th>\n",
       "    </tr>\n",
       "  </thead>\n",
       "  <tbody>\n",
       "    <tr>\n",
       "      <th>0</th>\n",
       "      <td>Nissan Altima</td>\n",
       "    </tr>\n",
       "    <tr>\n",
       "      <th>1</th>\n",
       "      <td>Toyota Corolla</td>\n",
       "    </tr>\n",
       "    <tr>\n",
       "      <th>2</th>\n",
       "      <td>Nissan Altima</td>\n",
       "    </tr>\n",
       "    <tr>\n",
       "      <th>3</th>\n",
       "      <td>Nissan Altima</td>\n",
       "    </tr>\n",
       "    <tr>\n",
       "      <th>4</th>\n",
       "      <td>Nissan Altima</td>\n",
       "    </tr>\n",
       "  </tbody>\n",
       "</table>\n",
       "</div>"
      ],
      "text/plain": [
       "         car_type\n",
       "0   Nissan Altima\n",
       "1  Toyota Corolla\n",
       "2   Nissan Altima\n",
       "3   Nissan Altima\n",
       "4   Nissan Altima"
      ]
     },
     "execution_count": 164,
     "metadata": {},
     "output_type": "execute_result"
    }
   ],
   "source": [
    "df[[\"car_type\"]].head() # Note [] - series, [[]] - dataframe"
   ]
  },
  {
   "cell_type": "code",
   "execution_count": 165,
   "metadata": {},
   "outputs": [
    {
     "data": {
      "text/html": [
       "<div>\n",
       "<style scoped>\n",
       "    .dataframe tbody tr th:only-of-type {\n",
       "        vertical-align: middle;\n",
       "    }\n",
       "\n",
       "    .dataframe tbody tr th {\n",
       "        vertical-align: top;\n",
       "    }\n",
       "\n",
       "    .dataframe thead th {\n",
       "        text-align: right;\n",
       "    }\n",
       "</style>\n",
       "<table border=\"1\" class=\"dataframe\">\n",
       "  <thead>\n",
       "    <tr style=\"text-align: right;\">\n",
       "      <th></th>\n",
       "      <th>car_type</th>\n",
       "      <th>Principal Paid</th>\n",
       "    </tr>\n",
       "  </thead>\n",
       "  <tbody>\n",
       "    <tr>\n",
       "      <th>0</th>\n",
       "      <td>Nissan Altima</td>\n",
       "      <td>484</td>\n",
       "    </tr>\n",
       "    <tr>\n",
       "      <th>1</th>\n",
       "      <td>Toyota Corolla</td>\n",
       "      <td>487</td>\n",
       "    </tr>\n",
       "    <tr>\n",
       "      <th>2</th>\n",
       "      <td>Nissan Altima</td>\n",
       "      <td>489</td>\n",
       "    </tr>\n",
       "    <tr>\n",
       "      <th>3</th>\n",
       "      <td>Nissan Altima</td>\n",
       "      <td>492</td>\n",
       "    </tr>\n",
       "    <tr>\n",
       "      <th>4</th>\n",
       "      <td>Nissan Altima</td>\n",
       "      <td>495</td>\n",
       "    </tr>\n",
       "  </tbody>\n",
       "</table>\n",
       "</div>"
      ],
      "text/plain": [
       "         car_type Principal Paid\n",
       "0   Nissan Altima            484\n",
       "1  Toyota Corolla            487\n",
       "2   Nissan Altima            489\n",
       "3   Nissan Altima            492\n",
       "4   Nissan Altima            495"
      ]
     },
     "execution_count": 165,
     "metadata": {},
     "output_type": "execute_result"
    }
   ],
   "source": [
    "df[[\"car_type\", \"Principal Paid\"]].head()"
   ]
  },
  {
   "cell_type": "code",
   "execution_count": 166,
   "metadata": {},
   "outputs": [
    {
     "data": {
      "text/plain": [
       "pandas.core.frame.DataFrame"
      ]
     },
     "execution_count": 166,
     "metadata": {},
     "output_type": "execute_result"
    }
   ],
   "source": [
    "type(df[[\"car_type\"]].head())"
   ]
  },
  {
   "cell_type": "code",
   "execution_count": 168,
   "metadata": {},
   "outputs": [
    {
     "data": {
      "text/plain": [
       "0     Nissan Altima\n",
       "1    Toyota Corolla\n",
       "2     Nissan Altima\n",
       "3     Nissan Altima\n",
       "4     Nissan Altima\n",
       "Name: car_type, dtype: object"
      ]
     },
     "execution_count": 168,
     "metadata": {},
     "output_type": "execute_result"
    }
   ],
   "source": [
    "df[\"car_type\"].head() # this is a 1-D array (series) that can be labelled (0, 1, 2, 3 - called indexes)\n",
    "# df[\"car_type\", \"Principal Paid\"]  - when you use series you cannot stack multiple columns - Key Error"
   ]
  },
  {
   "cell_type": "code",
   "execution_count": 169,
   "metadata": {},
   "outputs": [
    {
     "data": {
      "text/plain": [
       "pandas.core.series.Series"
      ]
     },
     "execution_count": 169,
     "metadata": {},
     "output_type": "execute_result"
    }
   ],
   "source": [
    "type(df[\"car_type\"].head())"
   ]
  },
  {
   "cell_type": "code",
   "execution_count": 170,
   "metadata": {},
   "outputs": [
    {
     "data": {
      "text/plain": [
       "0    484\n",
       "1    487\n",
       "2    489\n",
       "3    492\n",
       "Name: Principal Paid, dtype: object"
      ]
     },
     "execution_count": 170,
     "metadata": {},
     "output_type": "execute_result"
    }
   ],
   "source": [
    "# using series you can select rows using slicing like this: series(start_index:end_index)\n",
    "df[\"Principal Paid\"][0:4]"
   ]
  },
  {
   "cell_type": "code",
   "execution_count": 171,
   "metadata": {},
   "outputs": [
    {
     "data": {
      "text/html": [
       "<div>\n",
       "<style scoped>\n",
       "    .dataframe tbody tr th:only-of-type {\n",
       "        vertical-align: middle;\n",
       "    }\n",
       "\n",
       "    .dataframe tbody tr th {\n",
       "        vertical-align: top;\n",
       "    }\n",
       "\n",
       "    .dataframe thead th {\n",
       "        text-align: right;\n",
       "    }\n",
       "</style>\n",
       "<table border=\"1\" class=\"dataframe\">\n",
       "  <thead>\n",
       "    <tr style=\"text-align: right;\">\n",
       "      <th></th>\n",
       "      <th>car_type</th>\n",
       "    </tr>\n",
       "  </thead>\n",
       "  <tbody>\n",
       "    <tr>\n",
       "      <th>0</th>\n",
       "      <td>Nissan Altima</td>\n",
       "    </tr>\n",
       "    <tr>\n",
       "      <th>1</th>\n",
       "      <td>Toyota Corolla</td>\n",
       "    </tr>\n",
       "    <tr>\n",
       "      <th>2</th>\n",
       "      <td>Nissan Altima</td>\n",
       "    </tr>\n",
       "    <tr>\n",
       "      <th>3</th>\n",
       "      <td>Nissan Altima</td>\n",
       "    </tr>\n",
       "    <tr>\n",
       "      <th>4</th>\n",
       "      <td>Nissan Altima</td>\n",
       "    </tr>\n",
       "  </tbody>\n",
       "</table>\n",
       "</div>"
      ],
      "text/plain": [
       "         car_type\n",
       "0   Nissan Altima\n",
       "1  Toyota Corolla\n",
       "2   Nissan Altima\n",
       "3   Nissan Altima\n",
       "4   Nissan Altima"
      ]
     },
     "execution_count": 171,
     "metadata": {},
     "output_type": "execute_result"
    }
   ],
   "source": [
    "# preferred method to select columns is loc\n",
    "# pandas DataFrame\n",
    "df.loc[:, ['car_type']].head()  # : implies all row"
   ]
  },
  {
   "cell_type": "code",
   "execution_count": 172,
   "metadata": {},
   "outputs": [
    {
     "data": {
      "text/plain": [
       "0     Nissan Altima\n",
       "1    Toyota Corolla\n",
       "2     Nissan Altima\n",
       "3     Nissan Altima\n",
       "4     Nissan Altima\n",
       "Name: car_type, dtype: object"
      ]
     },
     "execution_count": 172,
     "metadata": {},
     "output_type": "execute_result"
    }
   ],
   "source": [
    "# Pandas series\n",
    "df.loc[:, 'car_type'].head()"
   ]
  },
  {
   "cell_type": "markdown",
   "metadata": {},
   "source": [
    "## Filtering"
   ]
  },
  {
   "cell_type": "code",
   "execution_count": 173,
   "metadata": {},
   "outputs": [
    {
     "data": {
      "text/plain": [
       "Nissan Altima     4\n",
       "Toyota Corolla    1\n",
       "Name: car_type, dtype: int64"
      ]
     },
     "execution_count": 173,
     "metadata": {},
     "output_type": "execute_result"
    }
   ],
   "source": [
    "# Let's first start by looking at the car_type column\n",
    "df['car_type'].value_counts()"
   ]
  },
  {
   "cell_type": "code",
   "execution_count": 174,
   "metadata": {},
   "outputs": [
    {
     "data": {
      "text/plain": [
       "0     True\n",
       "1    False\n",
       "2     True\n",
       "3     True\n",
       "4     True\n",
       "Name: car_type, dtype: bool"
      ]
     },
     "execution_count": 174,
     "metadata": {},
     "output_type": "execute_result"
    }
   ],
   "source": [
    "# Notice that the filter produces a pandas series of True and False values\n",
    "car_filter = df['car_type'] == 'Nissan Altima'\n",
    "car_filter.head()"
   ]
  },
  {
   "cell_type": "code",
   "execution_count": 175,
   "metadata": {},
   "outputs": [
    {
     "data": {
      "text/html": [
       "<div>\n",
       "<style scoped>\n",
       "    .dataframe tbody tr th:only-of-type {\n",
       "        vertical-align: middle;\n",
       "    }\n",
       "\n",
       "    .dataframe tbody tr th {\n",
       "        vertical-align: top;\n",
       "    }\n",
       "\n",
       "    .dataframe thead th {\n",
       "        text-align: right;\n",
       "    }\n",
       "</style>\n",
       "<table border=\"1\" class=\"dataframe\">\n",
       "  <thead>\n",
       "    <tr style=\"text-align: right;\">\n",
       "      <th></th>\n",
       "      <th>Month</th>\n",
       "      <th>Starting Balance</th>\n",
       "      <th>Repayment</th>\n",
       "      <th>Interest Paid</th>\n",
       "      <th>Principal Paid</th>\n",
       "      <th>New_Balance</th>\n",
       "      <th>term</th>\n",
       "      <th>interest_rate</th>\n",
       "      <th>car_type</th>\n",
       "    </tr>\n",
       "  </thead>\n",
       "  <tbody>\n",
       "    <tr>\n",
       "      <th>0</th>\n",
       "      <td>1</td>\n",
       "      <td>34689</td>\n",
       "      <td>687</td>\n",
       "      <td>202</td>\n",
       "      <td>484</td>\n",
       "      <td>34205</td>\n",
       "      <td>60</td>\n",
       "      <td>0.0702</td>\n",
       "      <td>Nissan Altima</td>\n",
       "    </tr>\n",
       "    <tr>\n",
       "      <th>2</th>\n",
       "      <td>3</td>\n",
       "      <td>33718</td>\n",
       "      <td>687</td>\n",
       "      <td>197</td>\n",
       "      <td>489</td>\n",
       "      <td>33228</td>\n",
       "      <td>60</td>\n",
       "      <td>0.0702</td>\n",
       "      <td>Nissan Altima</td>\n",
       "    </tr>\n",
       "    <tr>\n",
       "      <th>3</th>\n",
       "      <td>4</td>\n",
       "      <td>33228</td>\n",
       "      <td>687</td>\n",
       "      <td>194</td>\n",
       "      <td>492</td>\n",
       "      <td>32735</td>\n",
       "      <td>60</td>\n",
       "      <td>0.0702</td>\n",
       "      <td>Nissan Altima</td>\n",
       "    </tr>\n",
       "    <tr>\n",
       "      <th>4</th>\n",
       "      <td>5</td>\n",
       "      <td>32735</td>\n",
       "      <td>687</td>\n",
       "      <td>191</td>\n",
       "      <td>495</td>\n",
       "      <td>32239</td>\n",
       "      <td>60</td>\n",
       "      <td>0.0702</td>\n",
       "      <td>Nissan Altima</td>\n",
       "    </tr>\n",
       "  </tbody>\n",
       "</table>\n",
       "</div>"
      ],
      "text/plain": [
       "  Month Starting Balance Repayment Interest Paid Principal Paid New_Balance  \\\n",
       "0     1            34689       687           202            484       34205   \n",
       "2     3            33718       687           197            489       33228   \n",
       "3     4            33228       687           194            492       32735   \n",
       "4     5            32735       687           191            495       32239   \n",
       "\n",
       "  term interest_rate       car_type  \n",
       "0   60        0.0702  Nissan Altima  \n",
       "2   60        0.0702  Nissan Altima  \n",
       "3   60        0.0702  Nissan Altima  \n",
       "4   60        0.0702  Nissan Altima  "
      ]
     },
     "execution_count": 175,
     "metadata": {},
     "output_type": "execute_result"
    }
   ],
   "source": [
    "#Approach 1\n",
    "# Filter DataFrame to get a DataFrame of only Nissan Altima\n",
    "df[car_filter].head()"
   ]
  },
  {
   "cell_type": "code",
   "execution_count": 176,
   "metadata": {},
   "outputs": [
    {
     "data": {
      "text/html": [
       "<div>\n",
       "<style scoped>\n",
       "    .dataframe tbody tr th:only-of-type {\n",
       "        vertical-align: middle;\n",
       "    }\n",
       "\n",
       "    .dataframe tbody tr th {\n",
       "        vertical-align: top;\n",
       "    }\n",
       "\n",
       "    .dataframe thead th {\n",
       "        text-align: right;\n",
       "    }\n",
       "</style>\n",
       "<table border=\"1\" class=\"dataframe\">\n",
       "  <thead>\n",
       "    <tr style=\"text-align: right;\">\n",
       "      <th></th>\n",
       "      <th>Month</th>\n",
       "      <th>Starting Balance</th>\n",
       "      <th>Repayment</th>\n",
       "      <th>Interest Paid</th>\n",
       "      <th>Principal Paid</th>\n",
       "      <th>New_Balance</th>\n",
       "      <th>term</th>\n",
       "      <th>interest_rate</th>\n",
       "      <th>car_type</th>\n",
       "    </tr>\n",
       "  </thead>\n",
       "  <tbody>\n",
       "    <tr>\n",
       "      <th>0</th>\n",
       "      <td>1</td>\n",
       "      <td>34689</td>\n",
       "      <td>687</td>\n",
       "      <td>202</td>\n",
       "      <td>484</td>\n",
       "      <td>34205</td>\n",
       "      <td>60</td>\n",
       "      <td>0.0702</td>\n",
       "      <td>Nissan Altima</td>\n",
       "    </tr>\n",
       "    <tr>\n",
       "      <th>2</th>\n",
       "      <td>3</td>\n",
       "      <td>33718</td>\n",
       "      <td>687</td>\n",
       "      <td>197</td>\n",
       "      <td>489</td>\n",
       "      <td>33228</td>\n",
       "      <td>60</td>\n",
       "      <td>0.0702</td>\n",
       "      <td>Nissan Altima</td>\n",
       "    </tr>\n",
       "    <tr>\n",
       "      <th>3</th>\n",
       "      <td>4</td>\n",
       "      <td>33228</td>\n",
       "      <td>687</td>\n",
       "      <td>194</td>\n",
       "      <td>492</td>\n",
       "      <td>32735</td>\n",
       "      <td>60</td>\n",
       "      <td>0.0702</td>\n",
       "      <td>Nissan Altima</td>\n",
       "    </tr>\n",
       "    <tr>\n",
       "      <th>4</th>\n",
       "      <td>5</td>\n",
       "      <td>32735</td>\n",
       "      <td>687</td>\n",
       "      <td>191</td>\n",
       "      <td>495</td>\n",
       "      <td>32239</td>\n",
       "      <td>60</td>\n",
       "      <td>0.0702</td>\n",
       "      <td>Nissan Altima</td>\n",
       "    </tr>\n",
       "  </tbody>\n",
       "</table>\n",
       "</div>"
      ],
      "text/plain": [
       "  Month Starting Balance Repayment Interest Paid Principal Paid New_Balance  \\\n",
       "0     1            34689       687           202            484       34205   \n",
       "2     3            33718       687           197            489       33228   \n",
       "3     4            33228       687           194            492       32735   \n",
       "4     5            32735       687           191            495       32239   \n",
       "\n",
       "  term interest_rate       car_type  \n",
       "0   60        0.0702  Nissan Altima  \n",
       "2   60        0.0702  Nissan Altima  \n",
       "3   60        0.0702  Nissan Altima  \n",
       "4   60        0.0702  Nissan Altima  "
      ]
     },
     "execution_count": 176,
     "metadata": {},
     "output_type": "execute_result"
    }
   ],
   "source": [
    "# Approach 2\n",
    "df = df.loc[car_filter, :] # here : means all columns\n",
    "df"
   ]
  },
  {
   "cell_type": "code",
   "execution_count": 178,
   "metadata": {},
   "outputs": [
    {
     "data": {
      "text/plain": [
       "0.0702    4\n",
       "Name: interest_rate, dtype: int64"
      ]
     },
     "execution_count": 178,
     "metadata": {},
     "output_type": "execute_result"
    }
   ],
   "source": [
    "df['interest_rate'].value_counts()"
   ]
  },
  {
   "cell_type": "code",
   "execution_count": 179,
   "metadata": {},
   "outputs": [
    {
     "data": {
      "text/plain": [
       "0    True\n",
       "2    True\n",
       "3    True\n",
       "4    True\n",
       "Name: interest_rate, dtype: bool"
      ]
     },
     "execution_count": 179,
     "metadata": {},
     "output_type": "execute_result"
    }
   ],
   "source": [
    "interest_filter = df['interest_rate']== str(0.0702)\n",
    "interest_filter"
   ]
  },
  {
   "cell_type": "code",
   "execution_count": 180,
   "metadata": {},
   "outputs": [],
   "source": [
    "df = df.loc[interest_filter, :]"
   ]
  },
  {
   "cell_type": "code",
   "execution_count": 181,
   "metadata": {},
   "outputs": [
    {
     "data": {
      "text/plain": [
       "0.0702    4\n",
       "Name: interest_rate, dtype: int64"
      ]
     },
     "execution_count": 181,
     "metadata": {},
     "output_type": "execute_result"
    }
   ],
   "source": [
    "df['interest_rate'].value_counts(dropna = False)"
   ]
  },
  {
   "cell_type": "code",
   "execution_count": 182,
   "metadata": {},
   "outputs": [
    {
     "data": {
      "text/html": [
       "<div>\n",
       "<style scoped>\n",
       "    .dataframe tbody tr th:only-of-type {\n",
       "        vertical-align: middle;\n",
       "    }\n",
       "\n",
       "    .dataframe tbody tr th {\n",
       "        vertical-align: top;\n",
       "    }\n",
       "\n",
       "    .dataframe thead th {\n",
       "        text-align: right;\n",
       "    }\n",
       "</style>\n",
       "<table border=\"1\" class=\"dataframe\">\n",
       "  <thead>\n",
       "    <tr style=\"text-align: right;\">\n",
       "      <th></th>\n",
       "      <th>Month</th>\n",
       "      <th>Starting Balance</th>\n",
       "      <th>Repayment</th>\n",
       "      <th>Interest Paid</th>\n",
       "      <th>Principal Paid</th>\n",
       "      <th>New_Balance</th>\n",
       "      <th>term</th>\n",
       "      <th>interest_rate</th>\n",
       "      <th>car_type</th>\n",
       "    </tr>\n",
       "  </thead>\n",
       "  <tbody>\n",
       "    <tr>\n",
       "      <th>0</th>\n",
       "      <td>1</td>\n",
       "      <td>34689</td>\n",
       "      <td>687</td>\n",
       "      <td>202</td>\n",
       "      <td>484</td>\n",
       "      <td>34205</td>\n",
       "      <td>60</td>\n",
       "      <td>0.0702</td>\n",
       "      <td>Nissan Altima</td>\n",
       "    </tr>\n",
       "    <tr>\n",
       "      <th>2</th>\n",
       "      <td>3</td>\n",
       "      <td>33718</td>\n",
       "      <td>687</td>\n",
       "      <td>197</td>\n",
       "      <td>489</td>\n",
       "      <td>33228</td>\n",
       "      <td>60</td>\n",
       "      <td>0.0702</td>\n",
       "      <td>Nissan Altima</td>\n",
       "    </tr>\n",
       "    <tr>\n",
       "      <th>3</th>\n",
       "      <td>4</td>\n",
       "      <td>33228</td>\n",
       "      <td>687</td>\n",
       "      <td>194</td>\n",
       "      <td>492</td>\n",
       "      <td>32735</td>\n",
       "      <td>60</td>\n",
       "      <td>0.0702</td>\n",
       "      <td>Nissan Altima</td>\n",
       "    </tr>\n",
       "    <tr>\n",
       "      <th>4</th>\n",
       "      <td>5</td>\n",
       "      <td>32735</td>\n",
       "      <td>687</td>\n",
       "      <td>191</td>\n",
       "      <td>495</td>\n",
       "      <td>32239</td>\n",
       "      <td>60</td>\n",
       "      <td>0.0702</td>\n",
       "      <td>Nissan Altima</td>\n",
       "    </tr>\n",
       "  </tbody>\n",
       "</table>\n",
       "</div>"
      ],
      "text/plain": [
       "  Month Starting Balance Repayment Interest Paid Principal Paid New_Balance  \\\n",
       "0     1            34689       687           202            484       34205   \n",
       "2     3            33718       687           197            489       33228   \n",
       "3     4            33228       687           194            492       32735   \n",
       "4     5            32735       687           191            495       32239   \n",
       "\n",
       "  term interest_rate       car_type  \n",
       "0   60        0.0702  Nissan Altima  \n",
       "2   60        0.0702  Nissan Altima  \n",
       "3   60        0.0702  Nissan Altima  \n",
       "4   60        0.0702  Nissan Altima  "
      ]
     },
     "execution_count": 182,
     "metadata": {},
     "output_type": "execute_result"
    }
   ],
   "source": [
    "# A more concise way to do above filtering (instead of individually) is shown here\n",
    "df.loc[car_filter & interest_filter, :]"
   ]
  },
  {
   "cell_type": "markdown",
   "metadata": {},
   "source": [
    "## Renaming and Deleting columns"
   ]
  },
  {
   "cell_type": "code",
   "execution_count": 183,
   "metadata": {},
   "outputs": [
    {
     "data": {
      "text/html": [
       "<div>\n",
       "<style scoped>\n",
       "    .dataframe tbody tr th:only-of-type {\n",
       "        vertical-align: middle;\n",
       "    }\n",
       "\n",
       "    .dataframe tbody tr th {\n",
       "        vertical-align: top;\n",
       "    }\n",
       "\n",
       "    .dataframe thead th {\n",
       "        text-align: right;\n",
       "    }\n",
       "</style>\n",
       "<table border=\"1\" class=\"dataframe\">\n",
       "  <thead>\n",
       "    <tr style=\"text-align: right;\">\n",
       "      <th></th>\n",
       "      <th>Month</th>\n",
       "      <th>Starting Balance</th>\n",
       "      <th>Repayment</th>\n",
       "      <th>Interest Paid</th>\n",
       "      <th>Principal Paid</th>\n",
       "      <th>New_Balance</th>\n",
       "      <th>term</th>\n",
       "      <th>interest_rate</th>\n",
       "      <th>car_type</th>\n",
       "    </tr>\n",
       "  </thead>\n",
       "  <tbody>\n",
       "    <tr>\n",
       "      <th>0</th>\n",
       "      <td>1</td>\n",
       "      <td>34689</td>\n",
       "      <td>687</td>\n",
       "      <td>202</td>\n",
       "      <td>484</td>\n",
       "      <td>34205</td>\n",
       "      <td>60</td>\n",
       "      <td>0.0702</td>\n",
       "      <td>Nissan Altima</td>\n",
       "    </tr>\n",
       "    <tr>\n",
       "      <th>2</th>\n",
       "      <td>3</td>\n",
       "      <td>33718</td>\n",
       "      <td>687</td>\n",
       "      <td>197</td>\n",
       "      <td>489</td>\n",
       "      <td>33228</td>\n",
       "      <td>60</td>\n",
       "      <td>0.0702</td>\n",
       "      <td>Nissan Altima</td>\n",
       "    </tr>\n",
       "    <tr>\n",
       "      <th>3</th>\n",
       "      <td>4</td>\n",
       "      <td>33228</td>\n",
       "      <td>687</td>\n",
       "      <td>194</td>\n",
       "      <td>492</td>\n",
       "      <td>32735</td>\n",
       "      <td>60</td>\n",
       "      <td>0.0702</td>\n",
       "      <td>Nissan Altima</td>\n",
       "    </tr>\n",
       "    <tr>\n",
       "      <th>4</th>\n",
       "      <td>5</td>\n",
       "      <td>32735</td>\n",
       "      <td>687</td>\n",
       "      <td>191</td>\n",
       "      <td>495</td>\n",
       "      <td>32239</td>\n",
       "      <td>60</td>\n",
       "      <td>0.0702</td>\n",
       "      <td>Nissan Altima</td>\n",
       "    </tr>\n",
       "  </tbody>\n",
       "</table>\n",
       "</div>"
      ],
      "text/plain": [
       "  Month Starting Balance Repayment Interest Paid Principal Paid New_Balance  \\\n",
       "0     1            34689       687           202            484       34205   \n",
       "2     3            33718       687           197            489       33228   \n",
       "3     4            33228       687           194            492       32735   \n",
       "4     5            32735       687           191            495       32239   \n",
       "\n",
       "  term interest_rate       car_type  \n",
       "0   60        0.0702  Nissan Altima  \n",
       "2   60        0.0702  Nissan Altima  \n",
       "3   60        0.0702  Nissan Altima  \n",
       "4   60        0.0702  Nissan Altima  "
      ]
     },
     "execution_count": 183,
     "metadata": {},
     "output_type": "execute_result"
    }
   ],
   "source": [
    "df"
   ]
  },
  {
   "cell_type": "code",
   "execution_count": 189,
   "metadata": {},
   "outputs": [
    {
     "data": {
      "text/html": [
       "<div>\n",
       "<style scoped>\n",
       "    .dataframe tbody tr th:only-of-type {\n",
       "        vertical-align: middle;\n",
       "    }\n",
       "\n",
       "    .dataframe tbody tr th {\n",
       "        vertical-align: top;\n",
       "    }\n",
       "\n",
       "    .dataframe thead th {\n",
       "        text-align: right;\n",
       "    }\n",
       "</style>\n",
       "<table border=\"1\" class=\"dataframe\">\n",
       "  <thead>\n",
       "    <tr style=\"text-align: right;\">\n",
       "      <th></th>\n",
       "      <th>Month</th>\n",
       "      <th>Starting Balance</th>\n",
       "      <th>Repayment</th>\n",
       "      <th>Interest Paid</th>\n",
       "      <th>Principal_Paid</th>\n",
       "      <th>New_Balance</th>\n",
       "      <th>term</th>\n",
       "      <th>interest_rate</th>\n",
       "      <th>car_type</th>\n",
       "    </tr>\n",
       "  </thead>\n",
       "  <tbody>\n",
       "    <tr>\n",
       "      <th>0</th>\n",
       "      <td>1</td>\n",
       "      <td>34689</td>\n",
       "      <td>687</td>\n",
       "      <td>202</td>\n",
       "      <td>484</td>\n",
       "      <td>34205</td>\n",
       "      <td>60</td>\n",
       "      <td>0.0702</td>\n",
       "      <td>Nissan Altima</td>\n",
       "    </tr>\n",
       "    <tr>\n",
       "      <th>2</th>\n",
       "      <td>3</td>\n",
       "      <td>33718</td>\n",
       "      <td>687</td>\n",
       "      <td>197</td>\n",
       "      <td>489</td>\n",
       "      <td>33228</td>\n",
       "      <td>60</td>\n",
       "      <td>0.0702</td>\n",
       "      <td>Nissan Altima</td>\n",
       "    </tr>\n",
       "    <tr>\n",
       "      <th>3</th>\n",
       "      <td>4</td>\n",
       "      <td>33228</td>\n",
       "      <td>687</td>\n",
       "      <td>194</td>\n",
       "      <td>492</td>\n",
       "      <td>32735</td>\n",
       "      <td>60</td>\n",
       "      <td>0.0702</td>\n",
       "      <td>Nissan Altima</td>\n",
       "    </tr>\n",
       "    <tr>\n",
       "      <th>4</th>\n",
       "      <td>5</td>\n",
       "      <td>32735</td>\n",
       "      <td>687</td>\n",
       "      <td>191</td>\n",
       "      <td>495</td>\n",
       "      <td>32239</td>\n",
       "      <td>60</td>\n",
       "      <td>0.0702</td>\n",
       "      <td>Nissan Altima</td>\n",
       "    </tr>\n",
       "  </tbody>\n",
       "</table>\n",
       "</div>"
      ],
      "text/plain": [
       "  Month Starting Balance Repayment Interest Paid Principal_Paid New_Balance  \\\n",
       "0     1            34689       687           202            484       34205   \n",
       "2     3            33718       687           197            489       33228   \n",
       "3     4            33228       687           194            492       32735   \n",
       "4     5            32735       687           191            495       32239   \n",
       "\n",
       "  term interest_rate       car_type  \n",
       "0   60        0.0702  Nissan Altima  \n",
       "2   60        0.0702  Nissan Altima  \n",
       "3   60        0.0702  Nissan Altima  \n",
       "4   60        0.0702  Nissan Altima  "
      ]
     },
     "execution_count": 189,
     "metadata": {},
     "output_type": "execute_result"
    }
   ],
   "source": [
    "#Renaming column\n",
    "df.rename(columns={'Principal Paid':'Principal_Paid'}, inplace=True)\n",
    "df"
   ]
  },
  {
   "cell_type": "code",
   "execution_count": 190,
   "metadata": {},
   "outputs": [
    {
     "data": {
      "text/html": [
       "<div>\n",
       "<style scoped>\n",
       "    .dataframe tbody tr th:only-of-type {\n",
       "        vertical-align: middle;\n",
       "    }\n",
       "\n",
       "    .dataframe tbody tr th {\n",
       "        vertical-align: top;\n",
       "    }\n",
       "\n",
       "    .dataframe thead th {\n",
       "        text-align: right;\n",
       "    }\n",
       "</style>\n",
       "<table border=\"1\" class=\"dataframe\">\n",
       "  <thead>\n",
       "    <tr style=\"text-align: right;\">\n",
       "      <th></th>\n",
       "      <th>Month</th>\n",
       "      <th>Starting Balance</th>\n",
       "      <th>Repayment</th>\n",
       "      <th>Interest Paid</th>\n",
       "      <th>Principal_Paid</th>\n",
       "      <th>New_Balance</th>\n",
       "      <th>term</th>\n",
       "      <th>interest_rate</th>\n",
       "      <th>car_type</th>\n",
       "    </tr>\n",
       "  </thead>\n",
       "  <tbody>\n",
       "    <tr>\n",
       "      <th>0</th>\n",
       "      <td>1</td>\n",
       "      <td>34689</td>\n",
       "      <td>687</td>\n",
       "      <td>202</td>\n",
       "      <td>484</td>\n",
       "      <td>34205</td>\n",
       "      <td>60</td>\n",
       "      <td>0.0702</td>\n",
       "      <td>Nissan Altima</td>\n",
       "    </tr>\n",
       "    <tr>\n",
       "      <th>2</th>\n",
       "      <td>3</td>\n",
       "      <td>33718</td>\n",
       "      <td>687</td>\n",
       "      <td>197</td>\n",
       "      <td>489</td>\n",
       "      <td>33228</td>\n",
       "      <td>60</td>\n",
       "      <td>0.0702</td>\n",
       "      <td>Nissan Altima</td>\n",
       "    </tr>\n",
       "    <tr>\n",
       "      <th>3</th>\n",
       "      <td>4</td>\n",
       "      <td>33228</td>\n",
       "      <td>687</td>\n",
       "      <td>194</td>\n",
       "      <td>492</td>\n",
       "      <td>32735</td>\n",
       "      <td>60</td>\n",
       "      <td>0.0702</td>\n",
       "      <td>Nissan Altima</td>\n",
       "    </tr>\n",
       "    <tr>\n",
       "      <th>4</th>\n",
       "      <td>5</td>\n",
       "      <td>32735</td>\n",
       "      <td>687</td>\n",
       "      <td>191</td>\n",
       "      <td>495</td>\n",
       "      <td>32239</td>\n",
       "      <td>60</td>\n",
       "      <td>0.0702</td>\n",
       "      <td>Nissan Altima</td>\n",
       "    </tr>\n",
       "  </tbody>\n",
       "</table>\n",
       "</div>"
      ],
      "text/plain": [
       "  Month Starting Balance Repayment Interest Paid Principal_Paid New_Balance  \\\n",
       "0     1            34689       687           202            484       34205   \n",
       "2     3            33718       687           197            489       33228   \n",
       "3     4            33228       687           194            492       32735   \n",
       "4     5            32735       687           191            495       32239   \n",
       "\n",
       "  term interest_rate       car_type  \n",
       "0   60        0.0702  Nissan Altima  \n",
       "2   60        0.0702  Nissan Altima  \n",
       "3   60        0.0702  Nissan Altima  \n",
       "4   60        0.0702  Nissan Altima  "
      ]
     },
     "execution_count": 190,
     "metadata": {},
     "output_type": "execute_result"
    }
   ],
   "source": [
    "df"
   ]
  },
  {
   "cell_type": "code",
   "execution_count": 191,
   "metadata": {},
   "outputs": [],
   "source": [
    "# droping a column\n",
    "#df = df.drop(columns=['term']) (can also delete multiple colums with this approach) OR del df['term']"
   ]
  },
  {
   "cell_type": "markdown",
   "metadata": {},
   "source": [
    "## Aggregate Functions"
   ]
  },
  {
   "cell_type": "code",
   "execution_count": 214,
   "metadata": {},
   "outputs": [],
   "source": [
    "#switch back to list"
   ]
  },
  {
   "cell_type": "code",
   "execution_count": 277,
   "metadata": {},
   "outputs": [],
   "source": [
    "carLoans = [[1, 34689, 687, 202, 484, 34205, 60, 0.0702, \"Nissan Altima\"], [2, 34205, 687, 200, 487, 33718, 60, 0.035, \"Toyota Corolla\"], [3, 33718, 687, 197, 489, 33228, 60, 0.0702, \"Nissan Altima\"], [4, 33228, 687, 194, 492, 32735, 60, 0.0702, \"Nissan Altima\"],[5, 32735, 687, 191, 495, 32239, 60, 0.0702, \"Nissan Altima\"], [6, 34689, 687, 189, 484, 34205, 60, 0.0702, \"Nissan Altima\"]]\n",
    "colNames = ['Month', 'Starting Balance', 'Repayment', 'Interest Paid', 'Principal Paid', 'New_Balance', 'term', 'interest_rate', 'car_type']"
   ]
  },
  {
   "cell_type": "code",
   "execution_count": 278,
   "metadata": {},
   "outputs": [],
   "source": [
    "df2 = pd.DataFrame(data = carLoans, columns=colNames)"
   ]
  },
  {
   "cell_type": "code",
   "execution_count": 279,
   "metadata": {},
   "outputs": [
    {
     "data": {
      "text/html": [
       "<div>\n",
       "<style scoped>\n",
       "    .dataframe tbody tr th:only-of-type {\n",
       "        vertical-align: middle;\n",
       "    }\n",
       "\n",
       "    .dataframe tbody tr th {\n",
       "        vertical-align: top;\n",
       "    }\n",
       "\n",
       "    .dataframe thead th {\n",
       "        text-align: right;\n",
       "    }\n",
       "</style>\n",
       "<table border=\"1\" class=\"dataframe\">\n",
       "  <thead>\n",
       "    <tr style=\"text-align: right;\">\n",
       "      <th></th>\n",
       "      <th>Month</th>\n",
       "      <th>Starting Balance</th>\n",
       "      <th>Repayment</th>\n",
       "      <th>Interest Paid</th>\n",
       "      <th>Principal Paid</th>\n",
       "      <th>New_Balance</th>\n",
       "      <th>term</th>\n",
       "      <th>interest_rate</th>\n",
       "      <th>car_type</th>\n",
       "    </tr>\n",
       "  </thead>\n",
       "  <tbody>\n",
       "    <tr>\n",
       "      <th>0</th>\n",
       "      <td>1</td>\n",
       "      <td>34689</td>\n",
       "      <td>687</td>\n",
       "      <td>202</td>\n",
       "      <td>484</td>\n",
       "      <td>34205</td>\n",
       "      <td>60</td>\n",
       "      <td>0.0702</td>\n",
       "      <td>Nissan Altima</td>\n",
       "    </tr>\n",
       "    <tr>\n",
       "      <th>1</th>\n",
       "      <td>2</td>\n",
       "      <td>34205</td>\n",
       "      <td>687</td>\n",
       "      <td>200</td>\n",
       "      <td>487</td>\n",
       "      <td>33718</td>\n",
       "      <td>60</td>\n",
       "      <td>0.0350</td>\n",
       "      <td>Toyota Corolla</td>\n",
       "    </tr>\n",
       "    <tr>\n",
       "      <th>2</th>\n",
       "      <td>3</td>\n",
       "      <td>33718</td>\n",
       "      <td>687</td>\n",
       "      <td>197</td>\n",
       "      <td>489</td>\n",
       "      <td>33228</td>\n",
       "      <td>60</td>\n",
       "      <td>0.0702</td>\n",
       "      <td>Nissan Altima</td>\n",
       "    </tr>\n",
       "    <tr>\n",
       "      <th>3</th>\n",
       "      <td>4</td>\n",
       "      <td>33228</td>\n",
       "      <td>687</td>\n",
       "      <td>194</td>\n",
       "      <td>492</td>\n",
       "      <td>32735</td>\n",
       "      <td>60</td>\n",
       "      <td>0.0702</td>\n",
       "      <td>Nissan Altima</td>\n",
       "    </tr>\n",
       "    <tr>\n",
       "      <th>4</th>\n",
       "      <td>5</td>\n",
       "      <td>32735</td>\n",
       "      <td>687</td>\n",
       "      <td>191</td>\n",
       "      <td>495</td>\n",
       "      <td>32239</td>\n",
       "      <td>60</td>\n",
       "      <td>0.0702</td>\n",
       "      <td>Nissan Altima</td>\n",
       "    </tr>\n",
       "    <tr>\n",
       "      <th>5</th>\n",
       "      <td>6</td>\n",
       "      <td>34689</td>\n",
       "      <td>687</td>\n",
       "      <td>189</td>\n",
       "      <td>484</td>\n",
       "      <td>34205</td>\n",
       "      <td>60</td>\n",
       "      <td>0.0702</td>\n",
       "      <td>Nissan Altima</td>\n",
       "    </tr>\n",
       "  </tbody>\n",
       "</table>\n",
       "</div>"
      ],
      "text/plain": [
       "   Month  Starting Balance  Repayment  Interest Paid  Principal Paid  \\\n",
       "0      1             34689        687            202             484   \n",
       "1      2             34205        687            200             487   \n",
       "2      3             33718        687            197             489   \n",
       "3      4             33228        687            194             492   \n",
       "4      5             32735        687            191             495   \n",
       "5      6             34689        687            189             484   \n",
       "\n",
       "   New_Balance  term  interest_rate        car_type  \n",
       "0        34205    60         0.0702   Nissan Altima  \n",
       "1        33718    60         0.0350  Toyota Corolla  \n",
       "2        33228    60         0.0702   Nissan Altima  \n",
       "3        32735    60         0.0702   Nissan Altima  \n",
       "4        32239    60         0.0702   Nissan Altima  \n",
       "5        34205    60         0.0702   Nissan Altima  "
      ]
     },
     "execution_count": 279,
     "metadata": {},
     "output_type": "execute_result"
    }
   ],
   "source": [
    "df2"
   ]
  },
  {
   "cell_type": "code",
   "execution_count": 280,
   "metadata": {},
   "outputs": [
    {
     "name": "stdout",
     "output_type": "stream",
     "text": [
      "<class 'pandas.core.frame.DataFrame'>\n",
      "RangeIndex: 6 entries, 0 to 5\n",
      "Data columns (total 9 columns):\n",
      "Month               6 non-null int64\n",
      "Starting Balance    6 non-null int64\n",
      "Repayment           6 non-null int64\n",
      "Interest Paid       6 non-null int64\n",
      "Principal Paid      6 non-null int64\n",
      "New_Balance         6 non-null int64\n",
      "term                6 non-null int64\n",
      "interest_rate       6 non-null float64\n",
      "car_type            6 non-null object\n",
      "dtypes: float64(1), int64(7), object(1)\n",
      "memory usage: 512.0+ bytes\n"
     ]
    }
   ],
   "source": [
    "df2.info()"
   ]
  },
  {
   "cell_type": "code",
   "execution_count": 281,
   "metadata": {},
   "outputs": [
    {
     "data": {
      "text/plain": [
       "0    False\n",
       "1    False\n",
       "2    False\n",
       "3    False\n",
       "4    False\n",
       "5    False\n",
       "Name: Interest Paid, dtype: bool"
      ]
     },
     "execution_count": 281,
     "metadata": {},
     "output_type": "execute_result"
    }
   ],
   "source": [
    "# sum the values in a column\n",
    "#total amount of interest paid over the course of the loan\n",
    "df2['Interest Paid'].isna()"
   ]
  },
  {
   "cell_type": "code",
   "execution_count": 282,
   "metadata": {},
   "outputs": [
    {
     "data": {
      "text/plain": [
       "0    False\n",
       "1     True\n",
       "2    False\n",
       "3    False\n",
       "4    False\n",
       "5    False\n",
       "Name: Interest Paid, dtype: bool"
      ]
     },
     "execution_count": 282,
     "metadata": {},
     "output_type": "execute_result"
    }
   ],
   "source": [
    "df2['Interest Paid'] == 200"
   ]
  },
  {
   "cell_type": "code",
   "execution_count": 283,
   "metadata": {},
   "outputs": [
    {
     "data": {
      "text/html": [
       "<div>\n",
       "<style scoped>\n",
       "    .dataframe tbody tr th:only-of-type {\n",
       "        vertical-align: middle;\n",
       "    }\n",
       "\n",
       "    .dataframe tbody tr th {\n",
       "        vertical-align: top;\n",
       "    }\n",
       "\n",
       "    .dataframe thead th {\n",
       "        text-align: right;\n",
       "    }\n",
       "</style>\n",
       "<table border=\"1\" class=\"dataframe\">\n",
       "  <thead>\n",
       "    <tr style=\"text-align: right;\">\n",
       "      <th></th>\n",
       "      <th>Month</th>\n",
       "      <th>Starting Balance</th>\n",
       "      <th>Repayment</th>\n",
       "      <th>Interest_Paid</th>\n",
       "      <th>Principal_Paid</th>\n",
       "      <th>New_Balance</th>\n",
       "      <th>term</th>\n",
       "      <th>interest_rate</th>\n",
       "      <th>car_type</th>\n",
       "    </tr>\n",
       "  </thead>\n",
       "  <tbody>\n",
       "    <tr>\n",
       "      <th>0</th>\n",
       "      <td>1</td>\n",
       "      <td>34689</td>\n",
       "      <td>687</td>\n",
       "      <td>202</td>\n",
       "      <td>484</td>\n",
       "      <td>34205</td>\n",
       "      <td>60</td>\n",
       "      <td>0.0702</td>\n",
       "      <td>Nissan Altima</td>\n",
       "    </tr>\n",
       "    <tr>\n",
       "      <th>1</th>\n",
       "      <td>2</td>\n",
       "      <td>34205</td>\n",
       "      <td>687</td>\n",
       "      <td>200</td>\n",
       "      <td>487</td>\n",
       "      <td>33718</td>\n",
       "      <td>60</td>\n",
       "      <td>0.0350</td>\n",
       "      <td>Toyota Corolla</td>\n",
       "    </tr>\n",
       "    <tr>\n",
       "      <th>2</th>\n",
       "      <td>3</td>\n",
       "      <td>33718</td>\n",
       "      <td>687</td>\n",
       "      <td>197</td>\n",
       "      <td>489</td>\n",
       "      <td>33228</td>\n",
       "      <td>60</td>\n",
       "      <td>0.0702</td>\n",
       "      <td>Nissan Altima</td>\n",
       "    </tr>\n",
       "    <tr>\n",
       "      <th>3</th>\n",
       "      <td>4</td>\n",
       "      <td>33228</td>\n",
       "      <td>687</td>\n",
       "      <td>194</td>\n",
       "      <td>492</td>\n",
       "      <td>32735</td>\n",
       "      <td>60</td>\n",
       "      <td>0.0702</td>\n",
       "      <td>Nissan Altima</td>\n",
       "    </tr>\n",
       "    <tr>\n",
       "      <th>4</th>\n",
       "      <td>5</td>\n",
       "      <td>32735</td>\n",
       "      <td>687</td>\n",
       "      <td>191</td>\n",
       "      <td>495</td>\n",
       "      <td>32239</td>\n",
       "      <td>60</td>\n",
       "      <td>0.0702</td>\n",
       "      <td>Nissan Altima</td>\n",
       "    </tr>\n",
       "    <tr>\n",
       "      <th>5</th>\n",
       "      <td>6</td>\n",
       "      <td>34689</td>\n",
       "      <td>687</td>\n",
       "      <td>189</td>\n",
       "      <td>484</td>\n",
       "      <td>34205</td>\n",
       "      <td>60</td>\n",
       "      <td>0.0702</td>\n",
       "      <td>Nissan Altima</td>\n",
       "    </tr>\n",
       "  </tbody>\n",
       "</table>\n",
       "</div>"
      ],
      "text/plain": [
       "   Month  Starting Balance  Repayment  Interest_Paid  Principal_Paid  \\\n",
       "0      1             34689        687            202             484   \n",
       "1      2             34205        687            200             487   \n",
       "2      3             33718        687            197             489   \n",
       "3      4             33228        687            194             492   \n",
       "4      5             32735        687            191             495   \n",
       "5      6             34689        687            189             484   \n",
       "\n",
       "   New_Balance  term  interest_rate        car_type  \n",
       "0        34205    60         0.0702   Nissan Altima  \n",
       "1        33718    60         0.0350  Toyota Corolla  \n",
       "2        33228    60         0.0702   Nissan Altima  \n",
       "3        32735    60         0.0702   Nissan Altima  \n",
       "4        32239    60         0.0702   Nissan Altima  \n",
       "5        34205    60         0.0702   Nissan Altima  "
      ]
     },
     "execution_count": 283,
     "metadata": {},
     "output_type": "execute_result"
    }
   ],
   "source": [
    "# column rename\n",
    "df2 = df2.rename(columns={'Interest Paid':'Interest_Paid', 'Principal Paid':'Principal_Paid'})\n",
    "df2"
   ]
  },
  {
   "cell_type": "code",
   "execution_count": 284,
   "metadata": {},
   "outputs": [
    {
     "data": {
      "text/plain": [
       "Month                                                              21\n",
       "Starting Balance                                               203264\n",
       "Repayment                                                        4122\n",
       "Interest_Paid                                                    1173\n",
       "Principal_Paid                                                   2931\n",
       "New_Balance                                                    200330\n",
       "term                                                              360\n",
       "interest_rate                                                   0.386\n",
       "car_type            Nissan AltimaToyota CorollaNissan AltimaNissan...\n",
       "dtype: object"
      ]
     },
     "execution_count": 284,
     "metadata": {},
     "output_type": "execute_result"
    }
   ],
   "source": [
    "#df.sum() - sum all values across all columns\n",
    "df2.sum()"
   ]
  },
  {
   "cell_type": "code",
   "execution_count": 285,
   "metadata": {},
   "outputs": [
    {
     "name": "stdout",
     "output_type": "stream",
     "text": [
      "<class 'pandas.core.frame.DataFrame'>\n",
      "RangeIndex: 6 entries, 0 to 5\n",
      "Data columns (total 9 columns):\n",
      "Month               6 non-null int64\n",
      "Starting Balance    6 non-null int64\n",
      "Repayment           6 non-null int64\n",
      "Interest_Paid       6 non-null int64\n",
      "Principal_Paid      6 non-null int64\n",
      "New_Balance         6 non-null int64\n",
      "term                6 non-null int64\n",
      "interest_rate       6 non-null float64\n",
      "car_type            6 non-null object\n",
      "dtypes: float64(1), int64(7), object(1)\n",
      "memory usage: 512.0+ bytes\n"
     ]
    }
   ],
   "source": [
    "# Identifying missing data\n",
    "df2.info()"
   ]
  },
  {
   "cell_type": "code",
   "execution_count": 286,
   "metadata": {},
   "outputs": [
    {
     "data": {
      "text/plain": [
       "0    False\n",
       "1    False\n",
       "2    False\n",
       "3    False\n",
       "4    False\n",
       "Name: Interest_Paid, dtype: bool"
      ]
     },
     "execution_count": 286,
     "metadata": {},
     "output_type": "execute_result"
    }
   ],
   "source": [
    "df2['Interest_Paid'].isna().head()"
   ]
  },
  {
   "cell_type": "code",
   "execution_count": 291,
   "metadata": {},
   "outputs": [
    {
     "data": {
      "text/plain": [
       "0    False\n",
       "1    False\n",
       "2    False\n",
       "3    False\n",
       "4    False\n",
       "5    False\n",
       "Name: Interest_Paid, dtype: bool"
      ]
     },
     "execution_count": 291,
     "metadata": {},
     "output_type": "execute_result"
    }
   ],
   "source": [
    "# we can use interest_missing to isolate the missing data (if any)\n",
    "interest_missing = df2['Interest_Paid'].isna()\n",
    "interest_missing"
   ]
  },
  {
   "cell_type": "code",
   "execution_count": 292,
   "metadata": {},
   "outputs": [
    {
     "data": {
      "text/html": [
       "<div>\n",
       "<style scoped>\n",
       "    .dataframe tbody tr th:only-of-type {\n",
       "        vertical-align: middle;\n",
       "    }\n",
       "\n",
       "    .dataframe tbody tr th {\n",
       "        vertical-align: top;\n",
       "    }\n",
       "\n",
       "    .dataframe thead th {\n",
       "        text-align: right;\n",
       "    }\n",
       "</style>\n",
       "<table border=\"1\" class=\"dataframe\">\n",
       "  <thead>\n",
       "    <tr style=\"text-align: right;\">\n",
       "      <th></th>\n",
       "      <th>Month</th>\n",
       "      <th>Starting Balance</th>\n",
       "      <th>Repayment</th>\n",
       "      <th>Interest_Paid</th>\n",
       "      <th>Principal_Paid</th>\n",
       "      <th>New_Balance</th>\n",
       "      <th>term</th>\n",
       "      <th>interest_rate</th>\n",
       "      <th>car_type</th>\n",
       "    </tr>\n",
       "  </thead>\n",
       "  <tbody>\n",
       "  </tbody>\n",
       "</table>\n",
       "</div>"
      ],
      "text/plain": [
       "Empty DataFrame\n",
       "Columns: [Month, Starting Balance, Repayment, Interest_Paid, Principal_Paid, New_Balance, term, interest_rate, car_type]\n",
       "Index: []"
      ]
     },
     "execution_count": 292,
     "metadata": {},
     "output_type": "execute_result"
    }
   ],
   "source": [
    "# Looks at the row that contains any NAN value (IN OUR CASE THERE IS NO SUCH VALUE)\n",
    "df2.loc[interest_missing, :]"
   ]
  },
  {
   "cell_type": "code",
   "execution_count": 293,
   "metadata": {},
   "outputs": [
    {
     "data": {
      "text/html": [
       "<div>\n",
       "<style scoped>\n",
       "    .dataframe tbody tr th:only-of-type {\n",
       "        vertical-align: middle;\n",
       "    }\n",
       "\n",
       "    .dataframe tbody tr th {\n",
       "        vertical-align: top;\n",
       "    }\n",
       "\n",
       "    .dataframe thead th {\n",
       "        text-align: right;\n",
       "    }\n",
       "</style>\n",
       "<table border=\"1\" class=\"dataframe\">\n",
       "  <thead>\n",
       "    <tr style=\"text-align: right;\">\n",
       "      <th></th>\n",
       "      <th>Month</th>\n",
       "      <th>Starting Balance</th>\n",
       "      <th>Repayment</th>\n",
       "      <th>Interest_Paid</th>\n",
       "      <th>Principal_Paid</th>\n",
       "      <th>New_Balance</th>\n",
       "      <th>term</th>\n",
       "      <th>interest_rate</th>\n",
       "      <th>car_type</th>\n",
       "    </tr>\n",
       "  </thead>\n",
       "  <tbody>\n",
       "    <tr>\n",
       "      <th>0</th>\n",
       "      <td>1</td>\n",
       "      <td>34689</td>\n",
       "      <td>687</td>\n",
       "      <td>202</td>\n",
       "      <td>484</td>\n",
       "      <td>34205</td>\n",
       "      <td>60</td>\n",
       "      <td>0.0702</td>\n",
       "      <td>Nissan Altima</td>\n",
       "    </tr>\n",
       "    <tr>\n",
       "      <th>1</th>\n",
       "      <td>2</td>\n",
       "      <td>34205</td>\n",
       "      <td>687</td>\n",
       "      <td>200</td>\n",
       "      <td>487</td>\n",
       "      <td>33718</td>\n",
       "      <td>60</td>\n",
       "      <td>0.0350</td>\n",
       "      <td>Toyota Corolla</td>\n",
       "    </tr>\n",
       "    <tr>\n",
       "      <th>2</th>\n",
       "      <td>3</td>\n",
       "      <td>33718</td>\n",
       "      <td>687</td>\n",
       "      <td>197</td>\n",
       "      <td>489</td>\n",
       "      <td>33228</td>\n",
       "      <td>60</td>\n",
       "      <td>0.0702</td>\n",
       "      <td>Nissan Altima</td>\n",
       "    </tr>\n",
       "    <tr>\n",
       "      <th>3</th>\n",
       "      <td>4</td>\n",
       "      <td>33228</td>\n",
       "      <td>687</td>\n",
       "      <td>194</td>\n",
       "      <td>492</td>\n",
       "      <td>32735</td>\n",
       "      <td>60</td>\n",
       "      <td>0.0702</td>\n",
       "      <td>Nissan Altima</td>\n",
       "    </tr>\n",
       "    <tr>\n",
       "      <th>4</th>\n",
       "      <td>5</td>\n",
       "      <td>32735</td>\n",
       "      <td>687</td>\n",
       "      <td>191</td>\n",
       "      <td>495</td>\n",
       "      <td>32239</td>\n",
       "      <td>60</td>\n",
       "      <td>0.0702</td>\n",
       "      <td>Nissan Altima</td>\n",
       "    </tr>\n",
       "    <tr>\n",
       "      <th>5</th>\n",
       "      <td>6</td>\n",
       "      <td>34689</td>\n",
       "      <td>687</td>\n",
       "      <td>189</td>\n",
       "      <td>484</td>\n",
       "      <td>34205</td>\n",
       "      <td>60</td>\n",
       "      <td>0.0702</td>\n",
       "      <td>Nissan Altima</td>\n",
       "    </tr>\n",
       "  </tbody>\n",
       "</table>\n",
       "</div>"
      ],
      "text/plain": [
       "   Month  Starting Balance  Repayment  Interest_Paid  Principal_Paid  \\\n",
       "0      1             34689        687            202             484   \n",
       "1      2             34205        687            200             487   \n",
       "2      3             33718        687            197             489   \n",
       "3      4             33228        687            194             492   \n",
       "4      5             32735        687            191             495   \n",
       "5      6             34689        687            189             484   \n",
       "\n",
       "   New_Balance  term  interest_rate        car_type  \n",
       "0        34205    60         0.0702   Nissan Altima  \n",
       "1        33718    60         0.0350  Toyota Corolla  \n",
       "2        33228    60         0.0702   Nissan Altima  \n",
       "3        32735    60         0.0702   Nissan Altima  \n",
       "4        32239    60         0.0702   Nissan Altima  \n",
       "5        34205    60         0.0702   Nissan Altima  "
      ]
     },
     "execution_count": 293,
     "metadata": {},
     "output_type": "execute_result"
    }
   ],
   "source": [
    "# keep in mind that we can use the not operator(-) to negate the filter\n",
    "# every row that doesn't have a nan is returned\n",
    "df2.loc[-interest_missing, :]"
   ]
  },
  {
   "cell_type": "code",
   "execution_count": 294,
   "metadata": {},
   "outputs": [
    {
     "data": {
      "text/plain": [
       "0"
      ]
     },
     "execution_count": 294,
     "metadata": {},
     "output_type": "execute_result"
    }
   ],
   "source": [
    "# The code counts the number of missing values\n",
    "# sum() works because booleans are a subtype of integers\n",
    "df2['Interest_Paid'].isna().sum()"
   ]
  },
  {
   "cell_type": "markdown",
   "metadata": {},
   "source": [
    "## Remove Missing Value"
   ]
  },
  {
   "cell_type": "code",
   "execution_count": 295,
   "metadata": {},
   "outputs": [
    {
     "data": {
      "text/html": [
       "<div>\n",
       "<style scoped>\n",
       "    .dataframe tbody tr th:only-of-type {\n",
       "        vertical-align: middle;\n",
       "    }\n",
       "\n",
       "    .dataframe tbody tr th {\n",
       "        vertical-align: top;\n",
       "    }\n",
       "\n",
       "    .dataframe thead th {\n",
       "        text-align: right;\n",
       "    }\n",
       "</style>\n",
       "<table border=\"1\" class=\"dataframe\">\n",
       "  <thead>\n",
       "    <tr style=\"text-align: right;\">\n",
       "      <th></th>\n",
       "      <th>Month</th>\n",
       "      <th>Starting Balance</th>\n",
       "      <th>Repayment</th>\n",
       "      <th>Interest_Paid</th>\n",
       "      <th>Principal_Paid</th>\n",
       "      <th>New_Balance</th>\n",
       "      <th>term</th>\n",
       "      <th>interest_rate</th>\n",
       "      <th>car_type</th>\n",
       "    </tr>\n",
       "  </thead>\n",
       "  <tbody>\n",
       "    <tr>\n",
       "      <th>2</th>\n",
       "      <td>3</td>\n",
       "      <td>33718</td>\n",
       "      <td>687</td>\n",
       "      <td>197</td>\n",
       "      <td>489</td>\n",
       "      <td>33228</td>\n",
       "      <td>60</td>\n",
       "      <td>0.0702</td>\n",
       "      <td>Nissan Altima</td>\n",
       "    </tr>\n",
       "    <tr>\n",
       "      <th>3</th>\n",
       "      <td>4</td>\n",
       "      <td>33228</td>\n",
       "      <td>687</td>\n",
       "      <td>194</td>\n",
       "      <td>492</td>\n",
       "      <td>32735</td>\n",
       "      <td>60</td>\n",
       "      <td>0.0702</td>\n",
       "      <td>Nissan Altima</td>\n",
       "    </tr>\n",
       "    <tr>\n",
       "      <th>4</th>\n",
       "      <td>5</td>\n",
       "      <td>32735</td>\n",
       "      <td>687</td>\n",
       "      <td>191</td>\n",
       "      <td>495</td>\n",
       "      <td>32239</td>\n",
       "      <td>60</td>\n",
       "      <td>0.0702</td>\n",
       "      <td>Nissan Altima</td>\n",
       "    </tr>\n",
       "  </tbody>\n",
       "</table>\n",
       "</div>"
      ],
      "text/plain": [
       "   Month  Starting Balance  Repayment  Interest_Paid  Principal_Paid  \\\n",
       "2      3             33718        687            197             489   \n",
       "3      4             33228        687            194             492   \n",
       "4      5             32735        687            191             495   \n",
       "\n",
       "   New_Balance  term  interest_rate       car_type  \n",
       "2        33228    60         0.0702  Nissan Altima  \n",
       "3        32735    60         0.0702  Nissan Altima  \n",
       "4        32239    60         0.0702  Nissan Altima  "
      ]
     },
     "execution_count": 295,
     "metadata": {},
     "output_type": "execute_result"
    }
   ],
   "source": [
    "# You can drop entire rows if they contain 'any' nans in them or 'all'\n",
    "# this may not be the best strategy for our dataset\n",
    "df2[2:5].dropna(how = 'any')"
   ]
  },
  {
   "cell_type": "code",
   "execution_count": 296,
   "metadata": {},
   "outputs": [
    {
     "data": {
      "text/plain": [
       "2    197\n",
       "3    194\n",
       "4    191\n",
       "Name: Interest_Paid, dtype: int64"
      ]
     },
     "execution_count": 296,
     "metadata": {},
     "output_type": "execute_result"
    }
   ],
   "source": [
    "#filling in the NaN with a zero is probably a bad idea\n",
    "df2['Interest_Paid'][2:5].fillna(0)"
   ]
  },
  {
   "cell_type": "code",
   "execution_count": 297,
   "metadata": {},
   "outputs": [
    {
     "data": {
      "text/plain": [
       "2    197\n",
       "3    194\n",
       "4    191\n",
       "Name: Interest_Paid, dtype: int64"
      ]
     },
     "execution_count": 297,
     "metadata": {},
     "output_type": "execute_result"
    }
   ],
   "source": [
    "# back fill in value\n",
    "df2['Interest_Paid'][2:5].fillna(method='bfill')\n",
    "# forward fill\n",
    "df2['Interest_Paid'][2:5].fillna(method='ffill')"
   ]
  },
  {
   "cell_type": "code",
   "execution_count": 298,
   "metadata": {},
   "outputs": [
    {
     "data": {
      "text/plain": [
       "2    197\n",
       "3    194\n",
       "4    191\n",
       "Name: Interest_Paid, dtype: int64"
      ]
     },
     "execution_count": 298,
     "metadata": {},
     "output_type": "execute_result"
    }
   ],
   "source": [
    "# Linear interpolation (filling in of values) uses a linear model\n",
    "df2['Interest_Paid'][2:5].interpolate(method='linear')"
   ]
  },
  {
   "cell_type": "code",
   "execution_count": 300,
   "metadata": {},
   "outputs": [
    {
     "data": {
      "text/plain": [
       "1173"
      ]
     },
     "execution_count": 300,
     "metadata": {},
     "output_type": "execute_result"
    }
   ],
   "source": [
    "# Interest paid before filling in the nan with a value\n",
    "df2['Interest_Paid'].sum()"
   ]
  },
  {
   "cell_type": "code",
   "execution_count": 304,
   "metadata": {},
   "outputs": [],
   "source": [
    "# Fill in with the actual value\n",
    "interest_missing = df2['Interest_Paid'].isna()\n",
    "df2.loc[interest_missing,'Interest_Paid']=93.4"
   ]
  },
  {
   "cell_type": "code",
   "execution_count": 305,
   "metadata": {},
   "outputs": [
    {
     "data": {
      "text/plain": [
       "1173.0"
      ]
     },
     "execution_count": 305,
     "metadata": {},
     "output_type": "execute_result"
    }
   ],
   "source": [
    "df2['Interest_Paid'].sum()"
   ]
  },
  {
   "cell_type": "markdown",
   "metadata": {},
   "source": [
    "## Convert pandas DataFrames to numpy arrays or dictionaries"
   ]
  },
  {
   "cell_type": "code",
   "execution_count": 306,
   "metadata": {},
   "outputs": [],
   "source": [
    "# Certain lib prefer Numpy arrays or dictionaries as inputs to their methods"
   ]
  },
  {
   "cell_type": "code",
   "execution_count": 307,
   "metadata": {},
   "outputs": [
    {
     "data": {
      "text/html": [
       "<div>\n",
       "<style scoped>\n",
       "    .dataframe tbody tr th:only-of-type {\n",
       "        vertical-align: middle;\n",
       "    }\n",
       "\n",
       "    .dataframe tbody tr th {\n",
       "        vertical-align: top;\n",
       "    }\n",
       "\n",
       "    .dataframe thead th {\n",
       "        text-align: right;\n",
       "    }\n",
       "</style>\n",
       "<table border=\"1\" class=\"dataframe\">\n",
       "  <thead>\n",
       "    <tr style=\"text-align: right;\">\n",
       "      <th></th>\n",
       "      <th>Month</th>\n",
       "      <th>Starting Balance</th>\n",
       "      <th>Repayment</th>\n",
       "      <th>Interest_Paid</th>\n",
       "      <th>Principal_Paid</th>\n",
       "      <th>New_Balance</th>\n",
       "      <th>term</th>\n",
       "      <th>interest_rate</th>\n",
       "      <th>car_type</th>\n",
       "    </tr>\n",
       "  </thead>\n",
       "  <tbody>\n",
       "    <tr>\n",
       "      <th>0</th>\n",
       "      <td>1</td>\n",
       "      <td>34689</td>\n",
       "      <td>687</td>\n",
       "      <td>202.0</td>\n",
       "      <td>484</td>\n",
       "      <td>34205</td>\n",
       "      <td>60</td>\n",
       "      <td>0.0702</td>\n",
       "      <td>Nissan Altima</td>\n",
       "    </tr>\n",
       "    <tr>\n",
       "      <th>1</th>\n",
       "      <td>2</td>\n",
       "      <td>34205</td>\n",
       "      <td>687</td>\n",
       "      <td>200.0</td>\n",
       "      <td>487</td>\n",
       "      <td>33718</td>\n",
       "      <td>60</td>\n",
       "      <td>0.0350</td>\n",
       "      <td>Toyota Corolla</td>\n",
       "    </tr>\n",
       "    <tr>\n",
       "      <th>2</th>\n",
       "      <td>3</td>\n",
       "      <td>33718</td>\n",
       "      <td>687</td>\n",
       "      <td>197.0</td>\n",
       "      <td>489</td>\n",
       "      <td>33228</td>\n",
       "      <td>60</td>\n",
       "      <td>0.0702</td>\n",
       "      <td>Nissan Altima</td>\n",
       "    </tr>\n",
       "    <tr>\n",
       "      <th>3</th>\n",
       "      <td>4</td>\n",
       "      <td>33228</td>\n",
       "      <td>687</td>\n",
       "      <td>194.0</td>\n",
       "      <td>492</td>\n",
       "      <td>32735</td>\n",
       "      <td>60</td>\n",
       "      <td>0.0702</td>\n",
       "      <td>Nissan Altima</td>\n",
       "    </tr>\n",
       "    <tr>\n",
       "      <th>4</th>\n",
       "      <td>5</td>\n",
       "      <td>32735</td>\n",
       "      <td>687</td>\n",
       "      <td>191.0</td>\n",
       "      <td>495</td>\n",
       "      <td>32239</td>\n",
       "      <td>60</td>\n",
       "      <td>0.0702</td>\n",
       "      <td>Nissan Altima</td>\n",
       "    </tr>\n",
       "  </tbody>\n",
       "</table>\n",
       "</div>"
      ],
      "text/plain": [
       "   Month  Starting Balance  Repayment  Interest_Paid  Principal_Paid  \\\n",
       "0      1             34689        687          202.0             484   \n",
       "1      2             34205        687          200.0             487   \n",
       "2      3             33718        687          197.0             489   \n",
       "3      4             33228        687          194.0             492   \n",
       "4      5             32735        687          191.0             495   \n",
       "\n",
       "   New_Balance  term  interest_rate        car_type  \n",
       "0        34205    60         0.0702   Nissan Altima  \n",
       "1        33718    60         0.0350  Toyota Corolla  \n",
       "2        33228    60         0.0702   Nissan Altima  \n",
       "3        32735    60         0.0702   Nissan Altima  \n",
       "4        32239    60         0.0702   Nissan Altima  "
      ]
     },
     "execution_count": 307,
     "metadata": {},
     "output_type": "execute_result"
    }
   ],
   "source": [
    "df2.head()"
   ]
  },
  {
   "cell_type": "code",
   "execution_count": 315,
   "metadata": {},
   "outputs": [
    {
     "data": {
      "text/plain": [
       "array([[1, 34689, 687, 202.0, 484, 34205, 60, 0.0702, 'Nissan Altima'],\n",
       "       [2, 34205, 687, 200.0, 487, 33718, 60, 0.035, 'Toyota Corolla'],\n",
       "       [3, 33718, 687, 197.0, 489, 33228, 60, 0.0702, 'Nissan Altima'],\n",
       "       [4, 33228, 687, 194.0, 492, 32735, 60, 0.0702, 'Nissan Altima'],\n",
       "       [5, 32735, 687, 191.0, 495, 32239, 60, 0.0702, 'Nissan Altima'],\n",
       "       [6, 34689, 687, 189.0, 484, 34205, 60, 0.0702, 'Nissan Altima']],\n",
       "      dtype=object)"
      ]
     },
     "execution_count": 315,
     "metadata": {},
     "output_type": "execute_result"
    }
   ],
   "source": [
    "# Approach 1\n",
    "#import numpy\n",
    "#import pandas\n",
    "#df2.to_numpy() - Approach 1\n",
    "df2.values  # - Approach 2 - converts DF to np array"
   ]
  },
  {
   "cell_type": "code",
   "execution_count": 317,
   "metadata": {},
   "outputs": [
    {
     "data": {
      "text/plain": [
       "{'Month': {0: 1, 1: 2, 2: 3, 3: 4, 4: 5, 5: 6},\n",
       " 'Starting Balance': {0: 34689,\n",
       "  1: 34205,\n",
       "  2: 33718,\n",
       "  3: 33228,\n",
       "  4: 32735,\n",
       "  5: 34689},\n",
       " 'Repayment': {0: 687, 1: 687, 2: 687, 3: 687, 4: 687, 5: 687},\n",
       " 'Interest_Paid': {0: 202.0, 1: 200.0, 2: 197.0, 3: 194.0, 4: 191.0, 5: 189.0},\n",
       " 'Principal_Paid': {0: 484, 1: 487, 2: 489, 3: 492, 4: 495, 5: 484},\n",
       " 'New_Balance': {0: 34205, 1: 33718, 2: 33228, 3: 32735, 4: 32239, 5: 34205},\n",
       " 'term': {0: 60, 1: 60, 2: 60, 3: 60, 4: 60, 5: 60},\n",
       " 'interest_rate': {0: 0.0702,\n",
       "  1: 0.035,\n",
       "  2: 0.0702,\n",
       "  3: 0.0702,\n",
       "  4: 0.0702,\n",
       "  5: 0.0702},\n",
       " 'car_type': {0: 'Nissan Altima',\n",
       "  1: 'Toyota Corolla',\n",
       "  2: 'Nissan Altima',\n",
       "  3: 'Nissan Altima',\n",
       "  4: 'Nissan Altima',\n",
       "  5: 'Nissan Altima'}}"
      ]
     },
     "execution_count": 317,
     "metadata": {},
     "output_type": "execute_result"
    }
   ],
   "source": [
    "df2.to_dict() # - converts to dict"
   ]
  },
  {
   "cell_type": "markdown",
   "metadata": {},
   "source": [
    "## Export Pandas DF to csv and excel files"
   ]
  },
  {
   "cell_type": "code",
   "execution_count": 326,
   "metadata": {},
   "outputs": [],
   "source": [
    "# Exporting to csv or excel is a great way to share results with others\n",
    "\n",
    "df2.to_csv(path_or_buf='~/Documents/PyFilesJupy/df2.csv', index = False)\n",
    "\n",
    "#df2.to_excel(excel_writer ='~/Documents/PyFilesJupy/table_i702t60.xlsx', index=False)"
   ]
  },
  {
   "cell_type": "markdown",
   "metadata": {},
   "source": [
    "## MATPLOTLIB"
   ]
  },
  {
   "cell_type": "code",
   "execution_count": 330,
   "metadata": {},
   "outputs": [],
   "source": [
    "#- figures will appear inline in the notebook\n",
    "%matplotlib inline\n",
    "\n",
    "import pandas as pd\n",
    "import numpy as np\n",
    "\n",
    "\n",
    "import matplotlib.pyplot as plt\n",
    "\n",
    "import seaborn as sns  # wrapper of matplotlib"
   ]
  },
  {
   "cell_type": "code",
   "execution_count": 331,
   "metadata": {},
   "outputs": [],
   "source": [
    "# Load car loan data into a pandas dataframe from a csv file\n",
    "filename = '~/Documents/PyFilesJupy/df2.csv'\n",
    "df = pd.read_csv(filename)"
   ]
  },
  {
   "cell_type": "code",
   "execution_count": 333,
   "metadata": {},
   "outputs": [
    {
     "data": {
      "text/html": [
       "<div>\n",
       "<style scoped>\n",
       "    .dataframe tbody tr th:only-of-type {\n",
       "        vertical-align: middle;\n",
       "    }\n",
       "\n",
       "    .dataframe tbody tr th {\n",
       "        vertical-align: top;\n",
       "    }\n",
       "\n",
       "    .dataframe thead th {\n",
       "        text-align: right;\n",
       "    }\n",
       "</style>\n",
       "<table border=\"1\" class=\"dataframe\">\n",
       "  <thead>\n",
       "    <tr style=\"text-align: right;\">\n",
       "      <th></th>\n",
       "      <th>Month</th>\n",
       "      <th>Starting Balance</th>\n",
       "      <th>Repayment</th>\n",
       "      <th>Interest_Paid</th>\n",
       "      <th>Principal_Paid</th>\n",
       "      <th>New_Balance</th>\n",
       "      <th>term</th>\n",
       "      <th>interest_rate</th>\n",
       "      <th>car_type</th>\n",
       "    </tr>\n",
       "  </thead>\n",
       "  <tbody>\n",
       "    <tr>\n",
       "      <th>0</th>\n",
       "      <td>1</td>\n",
       "      <td>34689</td>\n",
       "      <td>687</td>\n",
       "      <td>202.0</td>\n",
       "      <td>484</td>\n",
       "      <td>34205</td>\n",
       "      <td>60</td>\n",
       "      <td>0.0702</td>\n",
       "      <td>Nissan Altima</td>\n",
       "    </tr>\n",
       "    <tr>\n",
       "      <th>1</th>\n",
       "      <td>2</td>\n",
       "      <td>34205</td>\n",
       "      <td>687</td>\n",
       "      <td>200.0</td>\n",
       "      <td>487</td>\n",
       "      <td>33718</td>\n",
       "      <td>60</td>\n",
       "      <td>0.0350</td>\n",
       "      <td>Toyota Corolla</td>\n",
       "    </tr>\n",
       "    <tr>\n",
       "      <th>2</th>\n",
       "      <td>3</td>\n",
       "      <td>33718</td>\n",
       "      <td>687</td>\n",
       "      <td>197.0</td>\n",
       "      <td>489</td>\n",
       "      <td>33228</td>\n",
       "      <td>60</td>\n",
       "      <td>0.0702</td>\n",
       "      <td>Nissan Altima</td>\n",
       "    </tr>\n",
       "    <tr>\n",
       "      <th>3</th>\n",
       "      <td>4</td>\n",
       "      <td>33228</td>\n",
       "      <td>687</td>\n",
       "      <td>194.0</td>\n",
       "      <td>492</td>\n",
       "      <td>32735</td>\n",
       "      <td>60</td>\n",
       "      <td>0.0702</td>\n",
       "      <td>Nissan Altima</td>\n",
       "    </tr>\n",
       "    <tr>\n",
       "      <th>4</th>\n",
       "      <td>5</td>\n",
       "      <td>32735</td>\n",
       "      <td>687</td>\n",
       "      <td>191.0</td>\n",
       "      <td>495</td>\n",
       "      <td>32239</td>\n",
       "      <td>60</td>\n",
       "      <td>0.0702</td>\n",
       "      <td>Nissan Altima</td>\n",
       "    </tr>\n",
       "  </tbody>\n",
       "</table>\n",
       "</div>"
      ],
      "text/plain": [
       "   Month  Starting Balance  Repayment  Interest_Paid  Principal_Paid  \\\n",
       "0      1             34689        687          202.0             484   \n",
       "1      2             34205        687          200.0             487   \n",
       "2      3             33718        687          197.0             489   \n",
       "3      4             33228        687          194.0             492   \n",
       "4      5             32735        687          191.0             495   \n",
       "\n",
       "   New_Balance  term  interest_rate        car_type  \n",
       "0        34205    60         0.0702   Nissan Altima  \n",
       "1        33718    60         0.0350  Toyota Corolla  \n",
       "2        33228    60         0.0702   Nissan Altima  \n",
       "3        32735    60         0.0702   Nissan Altima  \n",
       "4        32239    60         0.0702   Nissan Altima  "
      ]
     },
     "execution_count": 333,
     "metadata": {},
     "output_type": "execute_result"
    }
   ],
   "source": [
    "df.head() # first 5 rows"
   ]
  },
  {
   "cell_type": "code",
   "execution_count": 334,
   "metadata": {},
   "outputs": [
    {
     "name": "stdout",
     "output_type": "stream",
     "text": [
      "<class 'pandas.core.frame.DataFrame'>\n",
      "RangeIndex: 6 entries, 0 to 5\n",
      "Data columns (total 9 columns):\n",
      "Month               6 non-null int64\n",
      "Starting Balance    6 non-null int64\n",
      "Repayment           6 non-null int64\n",
      "Interest_Paid       6 non-null float64\n",
      "Principal_Paid      6 non-null int64\n",
      "New_Balance         6 non-null int64\n",
      "term                6 non-null int64\n",
      "interest_rate       6 non-null float64\n",
      "car_type            6 non-null object\n",
      "dtypes: float64(2), int64(6), object(1)\n",
      "memory usage: 512.0+ bytes\n"
     ]
    }
   ],
   "source": [
    "df.info() # check for nans"
   ]
  },
  {
   "cell_type": "code",
   "execution_count": 336,
   "metadata": {},
   "outputs": [],
   "source": [
    "# the values attribute converts a column of values into a numpy array\n",
    "month_number = df.loc[:, 'Month'].values\n",
    "interest_paid = df.loc[:, 'Interest_Paid'].values\n",
    "principal_paid = df.loc[:, 'Principal_Paid'].values"
   ]
  },
  {
   "cell_type": "code",
   "execution_count": 337,
   "metadata": {},
   "outputs": [
    {
     "data": {
      "text/plain": [
       "array([1, 2, 3, 4, 5, 6])"
      ]
     },
     "execution_count": 337,
     "metadata": {},
     "output_type": "execute_result"
    }
   ],
   "source": [
    "month_number"
   ]
  },
  {
   "cell_type": "code",
   "execution_count": 338,
   "metadata": {},
   "outputs": [
    {
     "data": {
      "text/plain": [
       "numpy.ndarray"
      ]
     },
     "execution_count": 338,
     "metadata": {},
     "output_type": "execute_result"
    }
   ],
   "source": [
    "type(month_number)"
   ]
  },
  {
   "cell_type": "code",
   "execution_count": 339,
   "metadata": {},
   "outputs": [
    {
     "data": {
      "text/plain": [
       "[<matplotlib.lines.Line2D at 0x7fc3969134e0>]"
      ]
     },
     "execution_count": 339,
     "metadata": {},
     "output_type": "execute_result"
    },
    {
     "data": {
      "image/png": "[encoded data removed]",
      "text/plain": [
       "<Figure size 432x288 with 1 Axes>"
      ]
     },
     "metadata": {
      "needs_background": "light"
     },
     "output_type": "display_data"
    }
   ],
   "source": [
    "# not the prettiest plot\n",
    "plt.plot(month_number, interest_paid)"
   ]
  },
  {
   "cell_type": "code",
   "execution_count": 342,
   "metadata": {},
   "outputs": [
    {
     "data": {
      "text/plain": [
       "[<matplotlib.lines.Line2D at 0x7fc3967576a0>]"
      ]
     },
     "execution_count": 342,
     "metadata": {},
     "output_type": "execute_result"
    },
    {
     "data": {
      "image/png": "[encoded data removed]",
      "text/plain": [
       "<Figure size 432x288 with 1 Axes>"
      ]
     },
     "metadata": {
      "needs_background": "light"
     },
     "output_type": "display_data"
    }
   ],
   "source": [
    "# can plot another line on same plot || also not the prettiest plot\n",
    "plt.plot(month_number, interest_paid)\n",
    "plt.plot(month_number, principal_paid)"
   ]
  },
  {
   "cell_type": "code",
   "execution_count": 343,
   "metadata": {},
   "outputs": [
    {
     "data": {
      "text/plain": [
       "['grayscale',\n",
       " '_classic_test',\n",
       " 'seaborn-poster',\n",
       " 'seaborn-dark',\n",
       " 'seaborn-whitegrid',\n",
       " 'ggplot',\n",
       " 'fast',\n",
       " 'seaborn',\n",
       " 'seaborn-darkgrid',\n",
       " 'seaborn-notebook',\n",
       " 'dark_background',\n",
       " 'seaborn-paper',\n",
       " 'seaborn-white',\n",
       " 'seaborn-dark-palette',\n",
       " 'classic',\n",
       " 'seaborn-muted',\n",
       " 'bmh',\n",
       " 'seaborn-talk',\n",
       " 'seaborn-pastel',\n",
       " 'fivethirtyeight',\n",
       " 'seaborn-bright',\n",
       " 'seaborn-colorblind',\n",
       " 'Solarize_Light2',\n",
       " 'seaborn-ticks',\n",
       " 'seaborn-deep',\n",
       " 'tableau-colorblind10']"
      ]
     },
     "execution_count": 343,
     "metadata": {},
     "output_type": "execute_result"
    }
   ],
   "source": [
    "# Our style choices\n",
    "plt.style.available"
   ]
  },
  {
   "cell_type": "code",
   "execution_count": 352,
   "metadata": {},
   "outputs": [
    {
     "data": {
      "text/plain": [
       "[<matplotlib.lines.Line2D at 0x7fc3963a4f60>]"
      ]
     },
     "execution_count": 352,
     "metadata": {},
     "output_type": "execute_result"
    },
    {
     "data": {
      "image/png": "[encoded data removed]",
      "text/plain": [
       "<Figure size 432x288 with 1 Axes>"
      ]
     },
     "metadata": {},
     "output_type": "display_data"
    }
   ],
   "source": [
    "plt.style.use('fivethirtyeight')\n",
    "plt.plot(month_number, interest_paid, c = 'r', marker = '.', markersize = 50)\n",
    "plt.plot(month_number, principal_paid, c = 'b', marker = '.', markersize = 50)\n",
    "# Using hex strings '#000000' is black whereas '#0000FF' is blue\n",
    "# also accepts rgb tuples (0, 0, 0) is black (0, 0, 1) is blue"
   ]
  },
  {
   "cell_type": "markdown",
   "metadata": {},
   "source": [
    "## MATLAB-style vs. Object syntax"
   ]
  },
  {
   "cell_type": "code",
   "execution_count": 379,
   "metadata": {},
   "outputs": [
    {
     "data": {
      "image/png": "[encoded data removed]",
      "text/plain": [
       "<Figure size 576x396 with 1 Axes>"
      ]
     },
     "metadata": {},
     "output_type": "display_data"
    }
   ],
   "source": [
    "# Matplotlib has two different types of syntax (they can also be used together)\n",
    "\n",
    "# below is MATLAB style\n",
    "plt.style.use('seaborn')\n",
    "plt.plot(month_number, interest_paid, c = 'r', label = 'Interest')\n",
    "plt.plot(month_number, principal_paid, c = 'b', label = 'Principal')\n",
    "plt.xlim(left=1, right=6)\n",
    "plt.ylim(bottom=100, top=500)\n",
    "plt.xlabel('Month', fontsize = 15)\n",
    "plt.ylabel('Dollars', fontsize = 15)\n",
    "plt.title('Interest and Principal Paid Each Month', fontsize = 15)\n",
    "plt.xticks(fontsize = 15)\n",
    "plt.yticks(fontsize = 15)\n",
    "#plt.grid(axis = 'x')\n",
    "#plt.grid(c = 'g',\n",
    "        #alpha = .9,\n",
    "        #linestyle = '-')\n",
    "plt.legend(loc='center right') # (loc = (1.02, 0), borderaxespad=0, fontsize=20) can move legend outside the plot\n",
    "plt.tight_layout() # ensures image fits to screen\n",
    "plt.savefig('pgh', dpi = 300)"
   ]
  },
  {
   "cell_type": "code",
   "execution_count": 354,
   "metadata": {},
   "outputs": [],
   "source": [
    "# below is the object style - allows for more options\n",
    "# tuple unpacking\n",
    "x, y = (3, 9)"
   ]
  },
  {
   "cell_type": "code",
   "execution_count": 365,
   "metadata": {},
   "outputs": [
    {
     "data": {
      "image/png": "[encoded data removed]",
      "text/plain": [
       "<Figure size 576x396 with 1 Axes>"
      ]
     },
     "metadata": {},
     "output_type": "display_data"
    }
   ],
   "source": [
    "fig, axes = plt.subplots(nrows = 1, ncols = 1)\n",
    "axes.plot(month_number, interest_paid, c = 'k');\n",
    "axes.plot(month_number, principal_paid, c = 'b');\n",
    "axes.set_xlabel('Month', fontsize = 15)\n",
    "axes.set_ylabel('Dollars', fontsize = 15)\n",
    "axes.set_title('Interest and Principal Paid Each Month', fontsize = 15)\n",
    "axes.tick_params(axis = 'x', labelsize = 15)\n",
    "axes.tick_params(axis = 'y', labelsize = 15)\n",
    "#axis.grid()\n",
    "#axes.legend()\n",
    "#fig.tight_layout()\n",
    "#fig.savefig()"
   ]
  },
  {
   "cell_type": "markdown",
   "metadata": {},
   "source": [
    "## Matplotlib wrappers (pandas and seaborn)"
   ]
  },
  {
   "cell_type": "code",
   "execution_count": 380,
   "metadata": {},
   "outputs": [],
   "source": [
    "#cancer_df = pd.read_csv('~/Documents/PyFilesJupy/breast-cancer-wisconsin.data')"
   ]
  },
  {
   "cell_type": "code",
   "execution_count": 384,
   "metadata": {},
   "outputs": [],
   "source": [
    "#cancer_df.head()"
   ]
  },
  {
   "cell_type": "code",
   "execution_count": 383,
   "metadata": {},
   "outputs": [],
   "source": [
    "# Looking at the distribution of the dataset in terms of Diagnosis\n",
    "\n",
    "#cancer_df['diagnosis'].value_counts(dropna = False)\n",
    "\n",
    "# the boxplot below disects 'diagnosis' into it's component parts (M and B )and forms an array\n",
    "\n",
    "# diagnosis and area_mean are two separate columns\n",
    "\n",
    "#malignant = cancer_df.loc[cancer_df['diagnosis']=='M', 'area_mean'].values\n",
    "#benign = cancer_df.loc[cancer_df['diagnosis']=='B', 'area_mean'].values\n",
    "\n",
    "\n",
    "#plt.boxplot([malignant, benign], labels=['M','B']);\n",
    "\n",
    "# Getting rid of area_mean\n",
    "\n",
    "# cancer_df.boxplot(column='area_mean', by = 'diagnosis');\n",
    "#plt.title('');\n",
    "#plt.suptitle('');\n",
    "\n",
    "# can also use seaborn\n",
    "#sns.boxplot(x='diagnosis', y='area_mean', data=cancer_df)"
   ]
  },
  {
   "cell_type": "markdown",
   "metadata": {},
   "source": [
    "## Advanced Plotting"
   ]
  },
  {
   "cell_type": "code",
   "execution_count": 385,
   "metadata": {},
   "outputs": [],
   "source": [
    "# Creating Heatmaps - graphical representation of data where values are depicted by colors\n",
    "# import np, pd, sns, plt\n",
    "confusion = np.array([[37,0, 0, 0, 0, 0, 0, 0, 0, 0],\n",
    "                     [0,39, 0, 0, 0, 0, 2, 0, 4, 0],\n",
    "                     [0, 0, 41, 3, 0, 0, 1, 0, 0, 0],\n",
    "                     [0, 0, 0, 44, 0, 0, 0, 0, 1, 0],\n",
    "                     [0,0, 0, 0, 37, 0, 0, 1, 0, 0],\n",
    "                     [0,0, 0, 0, 0, 46, 0, 0, 0, 2],\n",
    "                     [0,1, 0, 0, 0, 0, 51, 0, 0, 0],\n",
    "                     [0,3, 0, 1, 0, 0, 0, 46, 0, 0],\n",
    "                     [0,0, 1, 0, 2, 0, 0, 0, 44, 0],\n",
    "                     [37,0, 0, 0, 0, 0, 0, 1, 0, 44]])\n"
   ]
  },
  {
   "cell_type": "code",
   "execution_count": 387,
   "metadata": {},
   "outputs": [
    {
     "data": {
      "text/plain": [
       "Text(0.5, 9.23999999999998, 'Predicted label')"
      ]
     },
     "execution_count": 387,
     "metadata": {},
     "output_type": "execute_result"
    },
    {
     "data": {
      "image/png": "[encoded data removed]",
      "text/plain": [
       "<Figure size 432x432 with 2 Axes>"
      ]
     },
     "metadata": {},
     "output_type": "display_data"
    }
   ],
   "source": [
    "import seaborn as sns\n",
    "import numpy as np\n",
    "import pandas as pd\n",
    "import matplotlib.pyplot as plt\n",
    "plt.figure(figsize=(6,6))\n",
    "sns.heatmap(confusion,\n",
    "           annot=True,\n",
    "           cmap = 'Blues');\n",
    "plt.ylabel('Actual label');\n",
    "plt.xlabel('Predicted label')"
   ]
  },
  {
   "cell_type": "code",
   "execution_count": 389,
   "metadata": {},
   "outputs": [],
   "source": [
    "# Histograms  - summary of the variation in a measured variable\n",
    "# df = pd.read_csv('filename')\n",
    "# df.head()\n",
    "# df['price_column'].hist()\n",
    "# plt.xticks(rotation = 90) - prevents the x-axis from overlapping\n",
    "# plt.style.use('seaborn') - specifies hist style\n",
    "# df['price'].hist(bins=30) changes number of bins\n",
    "\n",
    "\n",
    "# TO VISUALIZE A SUBSET OF THE DATA\n",
    "# price_filter = df.loc[:, 'price'] <= 3000000 - homes less than = 300000\n",
    "# df.loc[price_filter, 'price'].hist(bins = 30, edgecolor='black')\n",
    "\n",
    "\n",
    "# SUBPLOTS USING MATPLOTLIB\n",
    "# pixel_colnames = df.columns[:-1] - every column except the last\n",
    "# pixel_colnames\n",
    "# image_values = df.loc[0, pixel_colnames].values - get all colums except the label column for the first image\n",
    "\n",
    "# image_values.reshape(8,8)\n",
    "# plt.imshow(image_values.reshape(8,8), cmap = 'gray')\n",
    "\n",
    "## first image\n",
    "# plt.subplot(1, 5, 1)\n",
    "# image_values = df.loc[0, pixel_colnames].values\n",
    "# image_label = df.loc[0, 'label']\n",
    "# plt.imshow(image_values.reshape(8,8), cmap = 'gray')\n",
    "# plt.title('Label: ' + str(image_label))\n",
    "# other subplots can be added by changing appropriate indexes\n",
    "\n",
    "\n",
    "# FOR LOOP FOR SUBPLOT\n",
    "\n",
    "# list(range(0,5))\n",
    "# plt.figure(figsize=(10,2))\n",
    "# for index in range(0, 5):\n",
    "    \n",
    "#     plt.subplot(1, 5, 1)\n",
    "#     image_values = df.loc[0, pixel_colnames].values\n",
    "#    image_label = df.loc[0, 'label']\n",
    "#    plt.imshow(image_values.reshape(8,8), cmap = 'gray')\n",
    "#    plt.title('Label: ' + str(image_label))"
   ]
  },
  {
   "cell_type": "code",
   "execution_count": 1,
   "metadata": {},
   "outputs": [],
   "source": [
    "import numpy as np\n",
    "import scipy.stats\n",
    "\n",
    "import matplotlib\n",
    "import matplotlib.pyplot as pp\n",
    "\n",
    "from IPython import display\n",
    "from ipywidgets import interact, widgets\n",
    "\n",
    "%matplotlib inline\n",
    "import re\n",
    "import mailbox\n",
    "import csv"
   ]
  },
  {
   "cell_type": "code",
   "execution_count": 8,
   "metadata": {},
   "outputs": [
    {
     "data": {
      "text/html": [
       "<div>\n",
       "<style scoped>\n",
       "    .dataframe tbody tr th:only-of-type {\n",
       "        vertical-align: middle;\n",
       "    }\n",
       "\n",
       "    .dataframe tbody tr th {\n",
       "        vertical-align: top;\n",
       "    }\n",
       "\n",
       "    .dataframe thead th {\n",
       "        text-align: right;\n",
       "    }\n",
       "</style>\n",
       "<table border=\"1\" class=\"dataframe\">\n",
       "  <thead>\n",
       "    <tr style=\"text-align: right;\">\n",
       "      <th></th>\n",
       "      <th>country</th>\n",
       "      <th>incomeperperson</th>\n",
       "      <th>alcconsumption</th>\n",
       "      <th>armedforcesrate</th>\n",
       "      <th>breastcancerper100th</th>\n",
       "      <th>co2emissions</th>\n",
       "      <th>femaleemployrate</th>\n",
       "      <th>hivrate</th>\n",
       "      <th>internetuserate</th>\n",
       "      <th>lifeexpectancy</th>\n",
       "      <th>oilperperson</th>\n",
       "      <th>polityscore</th>\n",
       "      <th>relectricperperson</th>\n",
       "      <th>suicideper100th</th>\n",
       "      <th>employrate</th>\n",
       "      <th>urbanrate</th>\n",
       "    </tr>\n",
       "  </thead>\n",
       "  <tbody>\n",
       "    <tr>\n",
       "      <th>0</th>\n",
       "      <td>Afghanistan</td>\n",
       "      <td></td>\n",
       "      <td>0.03</td>\n",
       "      <td>0.5696534</td>\n",
       "      <td>26.8</td>\n",
       "      <td>75944000</td>\n",
       "      <td>25.60000038</td>\n",
       "      <td></td>\n",
       "      <td>3.654121623</td>\n",
       "      <td>48.673</td>\n",
       "      <td></td>\n",
       "      <td>0</td>\n",
       "      <td></td>\n",
       "      <td>6.6843853</td>\n",
       "      <td>55.70000076</td>\n",
       "      <td>24.04</td>\n",
       "    </tr>\n",
       "    <tr>\n",
       "      <th>20</th>\n",
       "      <td>Bermuda</td>\n",
       "      <td>62682.14701</td>\n",
       "      <td></td>\n",
       "      <td></td>\n",
       "      <td></td>\n",
       "      <td>20331666.67</td>\n",
       "      <td></td>\n",
       "      <td></td>\n",
       "      <td>84.65451409</td>\n",
       "      <td></td>\n",
       "      <td></td>\n",
       "      <td></td>\n",
       "      <td></td>\n",
       "      <td></td>\n",
       "      <td></td>\n",
       "      <td>100</td>\n",
       "    </tr>\n",
       "    <tr>\n",
       "      <th>40</th>\n",
       "      <td>Comoros</td>\n",
       "      <td>336.3687495</td>\n",
       "      <td>0.28</td>\n",
       "      <td></td>\n",
       "      <td>19.5</td>\n",
       "      <td>2368666.667</td>\n",
       "      <td>59.29999924</td>\n",
       "      <td>0.1</td>\n",
       "      <td>5.098265306</td>\n",
       "      <td>61.061</td>\n",
       "      <td></td>\n",
       "      <td>9</td>\n",
       "      <td></td>\n",
       "      <td>4.751083851</td>\n",
       "      <td>68</td>\n",
       "      <td>28.08</td>\n",
       "    </tr>\n",
       "    <tr>\n",
       "      <th>60</th>\n",
       "      <td>Ethiopia</td>\n",
       "      <td>220.8912479</td>\n",
       "      <td>4.1</td>\n",
       "      <td>0.3617085</td>\n",
       "      <td>24.7</td>\n",
       "      <td>119958666.7</td>\n",
       "      <td>73</td>\n",
       "      <td></td>\n",
       "      <td>0.74999585</td>\n",
       "      <td>59.274</td>\n",
       "      <td></td>\n",
       "      <td>1</td>\n",
       "      <td>15.05623591</td>\n",
       "      <td>10.07194233</td>\n",
       "      <td>80.69999695</td>\n",
       "      <td>17</td>\n",
       "    </tr>\n",
       "    <tr>\n",
       "      <th>80</th>\n",
       "      <td>Guyana</td>\n",
       "      <td>1200.652075</td>\n",
       "      <td>8.7</td>\n",
       "      <td>0.8776657</td>\n",
       "      <td>29.5</td>\n",
       "      <td>69329333.33</td>\n",
       "      <td>41.79999924</td>\n",
       "      <td>1.2</td>\n",
       "      <td>29.87992146</td>\n",
       "      <td>69.927</td>\n",
       "      <td></td>\n",
       "      <td>6</td>\n",
       "      <td></td>\n",
       "      <td>35.75287247</td>\n",
       "      <td>58.90000153</td>\n",
       "      <td>28.38</td>\n",
       "    </tr>\n",
       "    <tr>\n",
       "      <th>100</th>\n",
       "      <td>Korea, Rep.</td>\n",
       "      <td>16372.49978</td>\n",
       "      <td>19.15</td>\n",
       "      <td>2.8339665</td>\n",
       "      <td>20.4</td>\n",
       "      <td>9666891667</td>\n",
       "      <td>48</td>\n",
       "      <td>0.06</td>\n",
       "      <td>82.515928</td>\n",
       "      <td>80.642</td>\n",
       "      <td>2.087848011</td>\n",
       "      <td>8</td>\n",
       "      <td>1142.309009</td>\n",
       "      <td>22.40456</td>\n",
       "      <td>58.90000153</td>\n",
       "      <td>81.46</td>\n",
       "    </tr>\n",
       "    <tr>\n",
       "      <th>120</th>\n",
       "      <td>Marshall Islands</td>\n",
       "      <td>2437.282445</td>\n",
       "      <td></td>\n",
       "      <td></td>\n",
       "      <td></td>\n",
       "      <td>1206333.333</td>\n",
       "      <td></td>\n",
       "      <td></td>\n",
       "      <td></td>\n",
       "      <td></td>\n",
       "      <td></td>\n",
       "      <td></td>\n",
       "      <td></td>\n",
       "      <td>7.202383518</td>\n",
       "      <td></td>\n",
       "      <td>71.08</td>\n",
       "    </tr>\n",
       "    <tr>\n",
       "      <th>140</th>\n",
       "      <td>Nicaragua</td>\n",
       "      <td>948.355952</td>\n",
       "      <td>5.21</td>\n",
       "      <td>0.5265916</td>\n",
       "      <td>23.9</td>\n",
       "      <td>109681000</td>\n",
       "      <td>36</td>\n",
       "      <td>0.2</td>\n",
       "      <td>9.998554154</td>\n",
       "      <td>74.044</td>\n",
       "      <td></td>\n",
       "      <td>9</td>\n",
       "      <td>126.8265778</td>\n",
       "      <td>12.12226868</td>\n",
       "      <td>58.79999924</td>\n",
       "      <td>56.74</td>\n",
       "    </tr>\n",
       "    <tr>\n",
       "      <th>160</th>\n",
       "      <td>Rwanda</td>\n",
       "      <td>338.2663912</td>\n",
       "      <td>9.99</td>\n",
       "      <td>0.7268554</td>\n",
       "      <td>8.8</td>\n",
       "      <td>20152000</td>\n",
       "      <td>80.5</td>\n",
       "      <td>2.9</td>\n",
       "      <td>13.00000612</td>\n",
       "      <td>55.442</td>\n",
       "      <td></td>\n",
       "      <td>-3</td>\n",
       "      <td></td>\n",
       "      <td>13.11794853</td>\n",
       "      <td>79.80000305</td>\n",
       "      <td>18.34</td>\n",
       "    </tr>\n",
       "    <tr>\n",
       "      <th>180</th>\n",
       "      <td>Sri Lanka</td>\n",
       "      <td>1295.742686</td>\n",
       "      <td>0.81</td>\n",
       "      <td>2.569643</td>\n",
       "      <td>23.6</td>\n",
       "      <td>253854333.3</td>\n",
       "      <td>39.20000076</td>\n",
       "      <td>0.06</td>\n",
       "      <td>11.99997066</td>\n",
       "      <td>74.941</td>\n",
       "      <td></td>\n",
       "      <td>6</td>\n",
       "      <td>161.0934685</td>\n",
       "      <td>28.10404587</td>\n",
       "      <td>55.09999847</td>\n",
       "      <td>15.1</td>\n",
       "    </tr>\n",
       "    <tr>\n",
       "      <th>200</th>\n",
       "      <td>Ukraine</td>\n",
       "      <td>1036.830725</td>\n",
       "      <td>17.47</td>\n",
       "      <td>0.9311688</td>\n",
       "      <td>39.9</td>\n",
       "      <td>5584766000</td>\n",
       "      <td>49.40000153</td>\n",
       "      <td>1.1</td>\n",
       "      <td>44.58535469</td>\n",
       "      <td>68.494</td>\n",
       "      <td>0.255234906</td>\n",
       "      <td>7</td>\n",
       "      <td>673.584861</td>\n",
       "      <td>18.95457</td>\n",
       "      <td>54.40000153</td>\n",
       "      <td>67.98</td>\n",
       "    </tr>\n",
       "  </tbody>\n",
       "</table>\n",
       "</div>"
      ],
      "text/plain": [
       "              country incomeperperson alcconsumption armedforcesrate  \\\n",
       "0         Afghanistan                           0.03       0.5696534   \n",
       "20            Bermuda     62682.14701                                  \n",
       "40            Comoros     336.3687495           0.28                   \n",
       "60           Ethiopia     220.8912479            4.1       0.3617085   \n",
       "80             Guyana     1200.652075            8.7       0.8776657   \n",
       "100       Korea, Rep.     16372.49978          19.15       2.8339665   \n",
       "120  Marshall Islands     2437.282445                                  \n",
       "140         Nicaragua      948.355952           5.21       0.5265916   \n",
       "160            Rwanda     338.2663912           9.99       0.7268554   \n",
       "180         Sri Lanka     1295.742686           0.81        2.569643   \n",
       "200           Ukraine     1036.830725          17.47       0.9311688   \n",
       "\n",
       "    breastcancerper100th co2emissions femaleemployrate hivrate  \\\n",
       "0                   26.8     75944000      25.60000038           \n",
       "20                        20331666.67                            \n",
       "40                  19.5  2368666.667      59.29999924     0.1   \n",
       "60                  24.7  119958666.7               73           \n",
       "80                  29.5  69329333.33      41.79999924     1.2   \n",
       "100                 20.4   9666891667               48    0.06   \n",
       "120                       1206333.333                            \n",
       "140                 23.9    109681000               36     0.2   \n",
       "160                  8.8     20152000             80.5     2.9   \n",
       "180                 23.6  253854333.3      39.20000076    0.06   \n",
       "200                 39.9   5584766000      49.40000153     1.1   \n",
       "\n",
       "    internetuserate lifeexpectancy oilperperson polityscore  \\\n",
       "0       3.654121623         48.673                        0   \n",
       "20      84.65451409                                           \n",
       "40      5.098265306         61.061                        9   \n",
       "60       0.74999585         59.274                        1   \n",
       "80      29.87992146         69.927                        6   \n",
       "100       82.515928         80.642  2.087848011           8   \n",
       "120                                                           \n",
       "140     9.998554154         74.044                        9   \n",
       "160     13.00000612         55.442                       -3   \n",
       "180     11.99997066         74.941                        6   \n",
       "200     44.58535469         68.494  0.255234906           7   \n",
       "\n",
       "    relectricperperson suicideper100th   employrate urbanrate  \n",
       "0                            6.6843853  55.70000076     24.04  \n",
       "20                                                        100  \n",
       "40                         4.751083851           68     28.08  \n",
       "60         15.05623591     10.07194233  80.69999695        17  \n",
       "80                         35.75287247  58.90000153     28.38  \n",
       "100        1142.309009        22.40456  58.90000153     81.46  \n",
       "120                        7.202383518                  71.08  \n",
       "140        126.8265778     12.12226868  58.79999924     56.74  \n",
       "160                        13.11794853  79.80000305     18.34  \n",
       "180        161.0934685     28.10404587  55.09999847      15.1  \n",
       "200         673.584861        18.95457  54.40000153     67.98  "
      ]
     },
     "execution_count": 8,
     "metadata": {},
     "output_type": "execute_result"
    }
   ],
   "source": [
    "import pandas as pd\n",
    "gapminder = pd.read_csv('gapminder.csv')\n",
    "\n",
    "gapminder.loc[0:200:20] #- selects every 20th row up to 200"
   ]
  },
  {
   "cell_type": "code",
   "execution_count": 9,
   "metadata": {},
   "outputs": [
    {
     "name": "stdout",
     "output_type": "stream",
     "text": [
      "<class 'pandas.core.frame.DataFrame'>\n",
      "RangeIndex: 213 entries, 0 to 212\n",
      "Data columns (total 16 columns):\n",
      "country                 213 non-null object\n",
      "incomeperperson         213 non-null object\n",
      "alcconsumption          213 non-null object\n",
      "armedforcesrate         213 non-null object\n",
      "breastcancerper100th    213 non-null object\n",
      "co2emissions            213 non-null object\n",
      "femaleemployrate        213 non-null object\n",
      "hivrate                 213 non-null object\n",
      "internetuserate         213 non-null object\n",
      "lifeexpectancy          213 non-null object\n",
      "oilperperson            213 non-null object\n",
      "polityscore             213 non-null object\n",
      "relectricperperson      213 non-null object\n",
      "suicideper100th         213 non-null object\n",
      "employrate              213 non-null object\n",
      "urbanrate               213 non-null object\n",
      "dtypes: object(16)\n",
      "memory usage: 26.7+ KB\n"
     ]
    },
    {
     "data": {
      "text/html": [
       "<div>\n",
       "<style scoped>\n",
       "    .dataframe tbody tr th:only-of-type {\n",
       "        vertical-align: middle;\n",
       "    }\n",
       "\n",
       "    .dataframe tbody tr th {\n",
       "        vertical-align: top;\n",
       "    }\n",
       "\n",
       "    .dataframe thead th {\n",
       "        text-align: right;\n",
       "    }\n",
       "</style>\n",
       "<table border=\"1\" class=\"dataframe\">\n",
       "  <thead>\n",
       "    <tr style=\"text-align: right;\">\n",
       "      <th></th>\n",
       "      <th>country</th>\n",
       "      <th>incomeperperson</th>\n",
       "      <th>alcconsumption</th>\n",
       "      <th>armedforcesrate</th>\n",
       "      <th>breastcancerper100th</th>\n",
       "      <th>co2emissions</th>\n",
       "      <th>femaleemployrate</th>\n",
       "      <th>hivrate</th>\n",
       "      <th>internetuserate</th>\n",
       "      <th>lifeexpectancy</th>\n",
       "      <th>oilperperson</th>\n",
       "      <th>polityscore</th>\n",
       "      <th>relectricperperson</th>\n",
       "      <th>suicideper100th</th>\n",
       "      <th>employrate</th>\n",
       "      <th>urbanrate</th>\n",
       "    </tr>\n",
       "  </thead>\n",
       "  <tbody>\n",
       "    <tr>\n",
       "      <th>0</th>\n",
       "      <td>Afghanistan</td>\n",
       "      <td></td>\n",
       "      <td>0.03</td>\n",
       "      <td>0.5696534</td>\n",
       "      <td>26.8</td>\n",
       "      <td>75944000</td>\n",
       "      <td>25.60000038</td>\n",
       "      <td></td>\n",
       "      <td>3.654121623</td>\n",
       "      <td>48.673</td>\n",
       "      <td></td>\n",
       "      <td>0</td>\n",
       "      <td></td>\n",
       "      <td>6.6843853</td>\n",
       "      <td>55.70000076</td>\n",
       "      <td>24.04</td>\n",
       "    </tr>\n",
       "    <tr>\n",
       "      <th>1</th>\n",
       "      <td>Albania</td>\n",
       "      <td>1914.996551</td>\n",
       "      <td>7.29</td>\n",
       "      <td>1.0247361</td>\n",
       "      <td>57.4</td>\n",
       "      <td>223747333.3</td>\n",
       "      <td>42.09999847</td>\n",
       "      <td></td>\n",
       "      <td>44.98994696</td>\n",
       "      <td>76.918</td>\n",
       "      <td></td>\n",
       "      <td>9</td>\n",
       "      <td>636.3413834</td>\n",
       "      <td>7.699329853</td>\n",
       "      <td>51.40000153</td>\n",
       "      <td>46.72</td>\n",
       "    </tr>\n",
       "    <tr>\n",
       "      <th>2</th>\n",
       "      <td>Algeria</td>\n",
       "      <td>2231.993335</td>\n",
       "      <td>0.69</td>\n",
       "      <td>2.306817</td>\n",
       "      <td>23.5</td>\n",
       "      <td>2932108667</td>\n",
       "      <td>31.70000076</td>\n",
       "      <td>0.1</td>\n",
       "      <td>12.50007331</td>\n",
       "      <td>73.131</td>\n",
       "      <td>0.420094525</td>\n",
       "      <td>2</td>\n",
       "      <td>590.5098143</td>\n",
       "      <td>4.848769665</td>\n",
       "      <td>50.5</td>\n",
       "      <td>65.22</td>\n",
       "    </tr>\n",
       "    <tr>\n",
       "      <th>3</th>\n",
       "      <td>Andorra</td>\n",
       "      <td>21943.3399</td>\n",
       "      <td>10.17</td>\n",
       "      <td></td>\n",
       "      <td></td>\n",
       "      <td></td>\n",
       "      <td></td>\n",
       "      <td></td>\n",
       "      <td>81</td>\n",
       "      <td></td>\n",
       "      <td></td>\n",
       "      <td></td>\n",
       "      <td></td>\n",
       "      <td>5.362178802</td>\n",
       "      <td></td>\n",
       "      <td>88.92</td>\n",
       "    </tr>\n",
       "    <tr>\n",
       "      <th>4</th>\n",
       "      <td>Angola</td>\n",
       "      <td>1381.004268</td>\n",
       "      <td>5.57</td>\n",
       "      <td>1.4613288</td>\n",
       "      <td>23.1</td>\n",
       "      <td>248358000</td>\n",
       "      <td>69.40000153</td>\n",
       "      <td>2</td>\n",
       "      <td>9.999953883</td>\n",
       "      <td>51.093</td>\n",
       "      <td></td>\n",
       "      <td>-2</td>\n",
       "      <td>172.9992274</td>\n",
       "      <td>14.55467701</td>\n",
       "      <td>75.69999695</td>\n",
       "      <td>56.7</td>\n",
       "    </tr>\n",
       "  </tbody>\n",
       "</table>\n",
       "</div>"
      ],
      "text/plain": [
       "       country incomeperperson alcconsumption armedforcesrate  \\\n",
       "0  Afghanistan                           0.03       0.5696534   \n",
       "1      Albania     1914.996551           7.29       1.0247361   \n",
       "2      Algeria     2231.993335           0.69        2.306817   \n",
       "3      Andorra      21943.3399          10.17                   \n",
       "4       Angola     1381.004268           5.57       1.4613288   \n",
       "\n",
       "  breastcancerper100th co2emissions femaleemployrate hivrate internetuserate  \\\n",
       "0                 26.8     75944000      25.60000038             3.654121623   \n",
       "1                 57.4  223747333.3      42.09999847             44.98994696   \n",
       "2                 23.5   2932108667      31.70000076     0.1     12.50007331   \n",
       "3                                                                         81   \n",
       "4                 23.1    248358000      69.40000153       2     9.999953883   \n",
       "\n",
       "  lifeexpectancy oilperperson polityscore relectricperperson suicideper100th  \\\n",
       "0         48.673                        0                          6.6843853   \n",
       "1         76.918                        9        636.3413834     7.699329853   \n",
       "2         73.131  0.420094525           2        590.5098143     4.848769665   \n",
       "3                                                                5.362178802   \n",
       "4         51.093                       -2        172.9992274     14.55467701   \n",
       "\n",
       "    employrate urbanrate  \n",
       "0  55.70000076     24.04  \n",
       "1  51.40000153     46.72  \n",
       "2         50.5     65.22  \n",
       "3                  88.92  \n",
       "4  75.69999695      56.7  "
      ]
     },
     "execution_count": 9,
     "metadata": {},
     "output_type": "execute_result"
    }
   ],
   "source": [
    "gapminder.info()\n",
    "gapminder.head()"
   ]
  },
  {
   "cell_type": "code",
   "execution_count": 87,
   "metadata": {},
   "outputs": [],
   "source": [
    "#gapminder['incomeperperson'].isnull()\n",
    "#gapminder[gapminder.country == 'Ethiopia'].plot.scatter('alcconsumption', 'suicideper100th')\n",
    "#gapminder['incomeperperson']\n",
    "#gapminder['incomeperperson'][8] = '1000'\n",
    "#.fillna(method='ffill')"
   ]
  },
  {
   "cell_type": "code",
   "execution_count": 10,
   "metadata": {},
   "outputs": [],
   "source": [
    "gapminder['incomeperperson'] = gapminder['incomeperperson'].replace(regex=' ', value = '10000')"
   ]
  },
  {
   "cell_type": "code",
   "execution_count": 11,
   "metadata": {},
   "outputs": [],
   "source": [
    "#gapminder['incomeperperson']\n",
    "gapminder['incomeperperson'] = pd.to_numeric(gapminder['incomeperperson'], errors='coerce').fillna(0, downcast='infer')\n"
   ]
  },
  {
   "cell_type": "code",
   "execution_count": 105,
   "metadata": {},
   "outputs": [],
   "source": [
    "# gapminder['incomeperperson'] "
   ]
  },
  {
   "cell_type": "code",
   "execution_count": 12,
   "metadata": {},
   "outputs": [],
   "source": [
    "gapminder['suicideper100th'] = gapminder['suicideper100th'].replace(regex=' ', value = '7')"
   ]
  },
  {
   "cell_type": "code",
   "execution_count": 101,
   "metadata": {},
   "outputs": [],
   "source": [
    "#gapminder['suicideper100th']"
   ]
  },
  {
   "cell_type": "code",
   "execution_count": 13,
   "metadata": {},
   "outputs": [],
   "source": [
    "gapminder['suicideper100th'] = pd.to_numeric(gapminder['suicideper100th'], errors='coerce').fillna(0, downcast='infer')"
   ]
  },
  {
   "cell_type": "code",
   "execution_count": 103,
   "metadata": {},
   "outputs": [],
   "source": [
    "# gapminder['suicideper100th']\n",
    "#gapminder['incomeperperson']"
   ]
  },
  {
   "cell_type": "code",
   "execution_count": 14,
   "metadata": {},
   "outputs": [
    {
     "data": {
      "text/plain": [
       "(0, 20000)"
      ]
     },
     "execution_count": 14,
     "metadata": {},
     "output_type": "execute_result"
    },
    {
     "data": {
      "image/png": "[encoded data removed]",
      "text/plain": [
       "<Figure size 432x288 with 1 Axes>"
      ]
     },
     "metadata": {
      "needs_background": "light"
     },
     "output_type": "display_data"
    }
   ],
   "source": [
    "gapminder.plot.scatter('incomeperperson', 'suicideper100th')\n",
    "pp.xlim(0, 20000)\n",
    "#pp.ylim(0,20000)"
   ]
  },
  {
   "cell_type": "code",
   "execution_count": 15,
   "metadata": {},
   "outputs": [],
   "source": [
    "\n",
    "gapminder['alcconsumption'] = gapminder['alcconsumption'].replace(regex=' ', value = '7')\n",
    "#gapminder['incomeperperson'] = pd.to_numeric(gapminder['incomeperperson'], errors='coerce').fillna(0, downcast='infer')"
   ]
  },
  {
   "cell_type": "code",
   "execution_count": 109,
   "metadata": {},
   "outputs": [],
   "source": [
    "#gapminder['alcconsumption']"
   ]
  },
  {
   "cell_type": "code",
   "execution_count": 16,
   "metadata": {},
   "outputs": [],
   "source": [
    "gapminder['alcconsumption'] = pd.to_numeric(gapminder['alcconsumption'], errors='coerce').fillna(0, downcast='infer')"
   ]
  },
  {
   "cell_type": "code",
   "execution_count": 121,
   "metadata": {},
   "outputs": [],
   "source": [
    "#gapminder['alcconsumption']"
   ]
  },
  {
   "cell_type": "code",
   "execution_count": 256,
   "metadata": {},
   "outputs": [],
   "source": [
    "#gapminder['lifeexpectancy']"
   ]
  },
  {
   "cell_type": "code",
   "execution_count": 17,
   "metadata": {},
   "outputs": [],
   "source": [
    "gapminder['lifeexpectancy'] = gapminder['lifeexpectancy'].replace(regex=' ', value = '60')"
   ]
  },
  {
   "cell_type": "code",
   "execution_count": 18,
   "metadata": {},
   "outputs": [],
   "source": [
    "gapminder['lifeexpectancy'] = pd.to_numeric(gapminder['lifeexpectancy'], errors='coerce').fillna(0, downcast='infer')"
   ]
  },
  {
   "cell_type": "code",
   "execution_count": 19,
   "metadata": {},
   "outputs": [
    {
     "data": {
      "text/plain": [
       "<matplotlib.axes._subplots.AxesSubplot at 0x7faa8771d5f8>"
      ]
     },
     "execution_count": 19,
     "metadata": {},
     "output_type": "execute_result"
    },
    {
     "data": {
      "image/png": "[encoded data removed]",
      "text/plain": [
       "<Figure size 432x288 with 1 Axes>"
      ]
     },
     "metadata": {
      "needs_background": "light"
     },
     "output_type": "display_data"
    }
   ],
   "source": [
    "gapminder.plot.scatter('alcconsumption', 'lifeexpectancy')\n",
    "#pp.xlim(0, 20000)\n",
    "#pp.ylim(0,20000)"
   ]
  },
  {
   "cell_type": "code",
   "execution_count": 20,
   "metadata": {},
   "outputs": [
    {
     "data": {
      "text/plain": [
       "<matplotlib.axes._subplots.AxesSubplot at 0x7faa87697da0>"
      ]
     },
     "execution_count": 20,
     "metadata": {},
     "output_type": "execute_result"
    },
    {
     "data": {
      "image/png": "[encoded data removed]",
      "text/plain": [
       "<Figure size 432x288 with 1 Axes>"
      ]
     },
     "metadata": {
      "needs_background": "light"
     },
     "output_type": "display_data"
    }
   ],
   "source": [
    "# gapminder[gapminder.year == 1965].plot.scatter('alcconsumption', 'suicideper100th')\n",
    "gapminder.plot.scatter('alcconsumption', 'suicideper100th')\n",
    "#pp.xlim(0, 20000)\n",
    "#pp.ylim(0,20000)"
   ]
  },
  {
   "cell_type": "code",
   "execution_count": 21,
   "metadata": {},
   "outputs": [
    {
     "data": {
      "text/plain": [
       "<matplotlib.axes._subplots.AxesSubplot at 0x7faa875f22b0>"
      ]
     },
     "execution_count": 21,
     "metadata": {},
     "output_type": "execute_result"
    },
    {
     "data": {
      "image/png": "[encoded data removed]",
      "text/plain": [
       "<Figure size 432x288 with 1 Axes>"
      ]
     },
     "metadata": {
      "needs_background": "light"
     },
     "output_type": "display_data"
    }
   ],
   "source": [
    "gapminder[gapminder.country == 'Albania'].plot.scatter('alcconsumption', 'suicideper100th')"
   ]
  },
  {
   "cell_type": "code",
   "execution_count": 22,
   "metadata": {},
   "outputs": [],
   "source": [
    "gapminder['polityscore'] = gapminder['polityscore'].replace(regex=' ', value = '9')"
   ]
  },
  {
   "cell_type": "code",
   "execution_count": 23,
   "metadata": {},
   "outputs": [
    {
     "data": {
      "text/plain": [
       "'9'"
      ]
     },
     "execution_count": 23,
     "metadata": {},
     "output_type": "execute_result"
    }
   ],
   "source": [
    "max(gapminder['polityscore'])"
   ]
  },
  {
   "cell_type": "code",
   "execution_count": 24,
   "metadata": {},
   "outputs": [],
   "source": [
    "gapminder['polityscore'] = pd.to_numeric(gapminder['polityscore'], errors='coerce').fillna(0, downcast='infer')"
   ]
  },
  {
   "cell_type": "code",
   "execution_count": 25,
   "metadata": {},
   "outputs": [
    {
     "data": {
      "text/plain": [
       "<matplotlib.axes._subplots.AxesSubplot at 0x7faa875b6208>"
      ]
     },
     "execution_count": 25,
     "metadata": {},
     "output_type": "execute_result"
    },
    {
     "data": {
      "image/png": "[encoded data removed]",
      "text/plain": [
       "<Figure size 432x288 with 1 Axes>"
      ]
     },
     "metadata": {
      "needs_background": "light"
     },
     "output_type": "display_data"
    }
   ],
   "source": [
    "gapminder[gapminder.polityscore == 0].plot.scatter('alcconsumption', 'suicideper100th')\n",
    "#gapminder['polityscore']"
   ]
  },
  {
   "cell_type": "code",
   "execution_count": 26,
   "metadata": {},
   "outputs": [
    {
     "data": {
      "text/plain": [
       "100.0"
      ]
     },
     "execution_count": 26,
     "metadata": {},
     "output_type": "execute_result"
    }
   ],
   "source": [
    "#gapminder['urbanrate']\n",
    "gapminder['urbanrate'] = gapminder['urbanrate'].replace(regex=' ', value = '35')\n",
    "gapminder['urbanrate'] = pd.to_numeric(gapminder['urbanrate'], errors='coerce').fillna(0, downcast='infer')\n",
    "max(gapminder['urbanrate'])"
   ]
  },
  {
   "cell_type": "code",
   "execution_count": 255,
   "metadata": {},
   "outputs": [],
   "source": [
    "#import scipy.stats\n",
    "#from matplotlib.colors import *\n",
    "#import pandas.plotting\n",
    "#def plot_polityscore(polityscore):\n",
    "    #data = gapminder[gapminder.polityscore == polityscore].sort_values('lifeexpectancy', ascending=False)\n",
    "    #area = 10*data.lifeexpectancy\n",
    "    #colors = data.urbanrate\n",
    "    #colors = data.country.map({'Albania':'skyblue','Algeria':'gold','Angola':'palegreen'}) # etc add ,c=colors after area below\n",
    "    #data.plot.scatter('alcconsumption', 'suicideper100th',\n",
    "                     #s=area,\n",
    "                      #linewidths=1,edgecolors='k',figsize=(12,9))#, c=colors) # log scale\n",
    "#plot_polityscore(10)"
   ]
  },
  {
   "cell_type": "code",
   "execution_count": 27,
   "metadata": {},
   "outputs": [
    {
     "data": {
      "application/vnd.jupyter.widget-view+json": {
       "model_id": "bb7477572c894b5685462f2597013be9"
      }
     },
     "metadata": {},
     "output_type": "display_data"
    },
    {
     "data": {
      "text/plain": [
       "<function __main__.plot_polityscore>"
      ]
     },
     "execution_count": 27,
     "metadata": {},
     "output_type": "execute_result"
    },
    {
     "data": {
      "image/png": "[encoded data removed]",
      "text/plain": [
       "<Figure size 864x648 with 2 Axes>"
      ]
     },
     "metadata": {
      "needs_background": "light"
     },
     "output_type": "display_data"
    }
   ],
   "source": [
    "#import scipy.stats\n",
    "from matplotlib.colors import *\n",
    "import pandas.plotting\n",
    "def plot_polityscore(polityscore):\n",
    "    data = gapminder[gapminder.polityscore == polityscore].sort_values('lifeexpectancy', ascending=False)\n",
    "    area = 10*data.lifeexpectancy\n",
    "    colors = data.urbanrate\n",
    "    #colors = data.country.map({'Albania':'skyblue','Algeria':'gold','Angola':'palegreen'}) # etc add ,c=colors after area below\n",
    "    data.plot.scatter('alcconsumption', 'suicideper100th', logx = False,\n",
    "                     s=area, c=colors, colormap=matplotlib.cm.get_cmap('Accent_r'), vmin=10.4, vmax=100,\n",
    "                      linewidths=1,edgecolors='k',sharex=False,figsize=(12,9))#, c=colors) # log scale\n",
    "#plot_polityscore(10)\n",
    "interact(plot_polityscore, polityscore=widgets.IntSlider(min=-10,max=10,steps=1,value=10))\n",
    "#interact(plot_polityscore, polityscore = range(-10,10,2))\n",
    "#pp.show()\n",
    "\n",
    "# _r reversed the color bar, sharex=False made x-axis label visible"
   ]
  },
  {
   "cell_type": "code",
   "execution_count": 28,
   "metadata": {},
   "outputs": [
    {
     "data": {
      "text/plain": [
       "<matplotlib.axes._subplots.AxesSubplot at 0x7faa851c50b8>"
      ]
     },
     "execution_count": 28,
     "metadata": {},
     "output_type": "execute_result"
    },
    {
     "data": {
      "image/png": "[encoded data removed]",
      "text/plain": [
       "<Figure size 432x288 with 1 Axes>"
      ]
     },
     "metadata": {
      "needs_background": "light"
     },
     "output_type": "display_data"
    }
   ],
   "source": [
    "gapminder['alcconsumption'].plot(kind='box')"
   ]
  },
  {
   "cell_type": "code",
   "execution_count": 29,
   "metadata": {},
   "outputs": [
    {
     "data": {
      "text/plain": [
       "6.727323943661972"
      ]
     },
     "execution_count": 29,
     "metadata": {},
     "output_type": "execute_result"
    }
   ],
   "source": [
    "np.mean(gapminder['alcconsumption'])"
   ]
  },
  {
   "cell_type": "code",
   "execution_count": 30,
   "metadata": {},
   "outputs": [
    {
     "data": {
      "text/plain": [
       "<matplotlib.axes._subplots.AxesSubplot at 0x7faa8540da20>"
      ]
     },
     "execution_count": 30,
     "metadata": {},
     "output_type": "execute_result"
    },
    {
     "data": {
      "image/png": "[encoded data removed]",
      "text/plain": [
       "<Figure size 432x288 with 1 Axes>"
      ]
     },
     "metadata": {
      "needs_background": "light"
     },
     "output_type": "display_data"
    }
   ],
   "source": [
    "#pd.DataFrame(gapminder['alcconsumption']).boxplot()\n",
    "pd.DataFrame({'suicideper100th':gapminder['suicideper100th'],'alcconsumption':gapminder['alcconsumption']}).boxplot()"
   ]
  },
  {
   "cell_type": "code",
   "execution_count": 31,
   "metadata": {},
   "outputs": [
    {
     "data": {
      "text/plain": [
       "<matplotlib.lines.Line2D at 0x7faa853567b8>"
      ]
     },
     "execution_count": 31,
     "metadata": {},
     "output_type": "execute_result"
    },
    {
     "data": {
      "image/png": "[encoded data removed]",
      "text/plain": [
       "<Figure size 432x288 with 1 Axes>"
      ]
     },
     "metadata": {
      "needs_background": "light"
     },
     "output_type": "display_data"
    }
   ],
   "source": [
    "gapminder['alcconsumption'].plot(kind='hist', histtype='step', bins=30)\n",
    "pp.axvline(gapminder['alcconsumption'].mean(), c='C1')\n",
    "pp.axvline(gapminder['alcconsumption'].median(), c='C1', linestyle='--')\n",
    "pp.axvline(gapminder['alcconsumption'].quantile(0.25), c='C1', linestyle=':')\n",
    "pp.axvline(gapminder['alcconsumption'].quantile(0.75), c='C1', linestyle=':')"
   ]
  },
  {
   "cell_type": "code",
   "execution_count": 32,
   "metadata": {},
   "outputs": [
    {
     "data": {
      "text/plain": [
       "(0, 20, 0.0, 0.225241790166587)"
      ]
     },
     "execution_count": 32,
     "metadata": {},
     "output_type": "execute_result"
    },
    {
     "data": {
      "image/png": "[encoded data removed]",
      "text/plain": [
       "<Figure size 432x288 with 1 Axes>"
      ]
     },
     "metadata": {
      "needs_background": "light"
     },
     "output_type": "display_data"
    }
   ],
   "source": [
    "gapminder['alcconsumption'].plot(kind='hist', histtype='step', bins=30, density=True)\n",
    "gapminder['alcconsumption'].plot.density(bw_method=0.5) #bw_method smoothens the density plot by adjusting bandwidth\n",
    "pp.axis(xmin=0, xmax=20)"
   ]
  },
  {
   "cell_type": "code",
   "execution_count": 33,
   "metadata": {},
   "outputs": [
    {
     "data": {
      "text/plain": [
       "<matplotlib.axes._subplots.AxesSubplot at 0x7faa852d77f0>"
      ]
     },
     "execution_count": 33,
     "metadata": {},
     "output_type": "execute_result"
    },
    {
     "data": {
      "image/png": "[encoded data removed]",
      "text/plain": [
       "<Figure size 432x288 with 1 Axes>"
      ]
     },
     "metadata": {
      "needs_background": "light"
     },
     "output_type": "display_data"
    }
   ],
   "source": [
    "gapminder['alcconsumption'].plot(kind='hist', histtype='step', bins=30)\n",
    "gapminder['suicideper100th'].plot(kind='hist', histtype='step', bins=30)\n",
    "\n",
    "#levels = [1, 2, 3, 10, 15, 20, 25, 10]\n",
    "#np.xtics(levels, levels)"
   ]
  },
  {
   "cell_type": "code",
   "execution_count": 34,
   "metadata": {},
   "outputs": [
    {
     "data": {
      "text/plain": [
       "1381.004268"
      ]
     },
     "execution_count": 34,
     "metadata": {},
     "output_type": "execute_result"
    }
   ],
   "source": [
    "float(gapminder.query('country == \"Angola\"').incomeperperson) # to get a single number and not a series, cast it using float"
   ]
  },
  {
   "cell_type": "code",
   "execution_count": 35,
   "metadata": {},
   "outputs": [
    {
     "data": {
      "text/plain": [
       "<matplotlib.axes._subplots.AxesSubplot at 0x7faa8523de80>"
      ]
     },
     "execution_count": 35,
     "metadata": {},
     "output_type": "execute_result"
    },
    {
     "data": {
      "image/png": "[encoded data removed]",
      "text/plain": [
       "<Figure size 432x288 with 1 Axes>"
      ]
     },
     "metadata": {
      "needs_background": "light"
     },
     "output_type": "display_data"
    }
   ],
   "source": [
    "gapminder.query('country == \"Angola\"').plot.scatter('lifeexpectancy','alcconsumption')#, logx=True)"
   ]
  },
  {
   "cell_type": "code",
   "execution_count": 202,
   "metadata": {},
   "outputs": [],
   "source": [
    "# %10 = integer multiple of 10\n",
    "# data = gapminder.query('(country == \"Italy\") or (country == \"United States\")')\n",
    "# size = np.where(data.year % 10 == 0,30,2)\n",
    "# color = np.where(data.country == 'Italy', 'blue', 'orange')\n",
    "# data.plot.scatter(\"gdp_per_day\", \"life_expectancy\", logx=True, s=size, c=color)\n",
    "\n",
    "# data[data.country == 'China'].plot.line(x='gdp_per_day', y='life_expectancy', ax=ax) - line plot connects scatter points"
   ]
  },
  {
   "cell_type": "code",
   "execution_count": 36,
   "metadata": {},
   "outputs": [
    {
     "data": {
      "image/png": "[encoded data removed]",
      "text/plain": [
       "<Figure size 864x648 with 2 Axes>"
      ]
     },
     "metadata": {
      "needs_background": "light"
     },
     "output_type": "display_data"
    }
   ],
   "source": [
    "#def plotcountry(polityscore):\n",
    "#    data = gapminder(gapminder.polityscore == polityscore)\n",
    " #   area = data.lifeexpectancy\n",
    " #   data.plot.scatter('alcconsumption', 'suicideper100th', s=area)\n",
    "    \n",
    "plot_polityscore(9)"
   ]
  },
  {
   "cell_type": "code",
   "execution_count": 37,
   "metadata": {},
   "outputs": [
    {
     "data": {
      "text/plain": [
       "country\n",
       "Albania                              7.699330\n",
       "Andorra                              5.362179\n",
       "Antigua and Barbuda                  2.161843\n",
       "Aruba                                7.000000\n",
       "Bahamas                              3.374416\n",
       "Barbados                             3.108603\n",
       "Belize                               9.388796\n",
       "Bermuda                              7.000000\n",
       "Bosnia and Herzegovina              11.836716\n",
       "Brunei                               1.370002\n",
       "Bulgaria                             9.216544\n",
       "Cape Verde                           5.633334\n",
       "Cayman Islands                       7.000000\n",
       "Comoros                              4.751084\n",
       "Cook Islands                         4.373365\n",
       "Croatia                             14.776250\n",
       "Dominica                             5.835251\n",
       "Estonia                             16.959240\n",
       "Faeroe Islands                       7.000000\n",
       "France                              14.091530\n",
       "French Polynesia                     7.000000\n",
       "Gibraltar                            7.000000\n",
       "Greenland                            7.000000\n",
       "Grenada                              3.576478\n",
       "Guadeloupe                           7.000000\n",
       "Guam                                 7.000000\n",
       "Hong Kong, China                     7.000000\n",
       "Iceland                             11.426181\n",
       "India                               18.583826\n",
       "Jamaica                              4.417507\n",
       "                                      ...    \n",
       "Marshall Islands                     7.202384\n",
       "Martinique                           7.000000\n",
       "Micronesia, Fed. Sts.                4.762270\n",
       "Monaco                              11.151072\n",
       "Montenegro                           7.000000\n",
       "Nauru                                4.079525\n",
       "Netherlands Antilles                 7.000000\n",
       "New Caledonia                        7.000000\n",
       "Nicaragua                           12.122269\n",
       "Niue                                 4.217076\n",
       "Palau                                5.554276\n",
       "Panama                               6.105282\n",
       "Peru                                 1.658908\n",
       "Puerto Rico                          7.000000\n",
       "Reunion                              7.000000\n",
       "Romania                             10.059320\n",
       "Saint Kitts and Nevis                7.000000\n",
       "Saint Lucia                          8.210948\n",
       "Saint Vincent and the Grenadines     9.593027\n",
       "Samoa                                5.542324\n",
       "San Marino                           6.087671\n",
       "Sao Tome and Principe               10.493150\n",
       "Serbia and Montenegro               14.469648\n",
       "Seychelles                           9.507928\n",
       "South Africa                        15.714571\n",
       "Suriname                            20.747431\n",
       "Tonga                                4.527852\n",
       "Tuvalu                               7.934812\n",
       "Vanuatu                              4.983422\n",
       "West Bank and Gaza                   7.000000\n",
       "Name: suicideper100th, Length: 67, dtype: float64"
      ]
     },
     "execution_count": 37,
     "metadata": {},
     "output_type": "execute_result"
    }
   ],
   "source": [
    "gapminder[gapminder.polityscore == 9].suicideper100th.sum()\n",
    "gapminder[gapminder.polityscore == 9].groupby('country').suicideper100th.sum()"
   ]
  },
  {
   "cell_type": "code",
   "execution_count": 38,
   "metadata": {},
   "outputs": [
    {
     "data": {
      "application/vnd.jupyter.widget-view+json": {
       "model_id": "387e22bedf95410fa836a0dd2cba7ba3"
      }
     },
     "metadata": {},
     "output_type": "display_data"
    },
    {
     "data": {
      "text/plain": [
       "<function __main__.plot_polityscore>"
      ]
     },
     "execution_count": 38,
     "metadata": {},
     "output_type": "execute_result"
    },
    {
     "data": {
      "image/png": "[encoded data removed]",
      "text/plain": [
       "<Figure size 864x648 with 2 Axes>"
      ]
     },
     "metadata": {
      "needs_background": "light"
     },
     "output_type": "display_data"
    }
   ],
   "source": [
    "#import scipy.stats\n",
    "from matplotlib.colors import *\n",
    "import pandas.plotting\n",
    "def plot_polityscore(polityscore):\n",
    "    data = gapminder[gapminder.polityscore == polityscore].sort_values('lifeexpectancy', ascending=False)\n",
    "    area = 10*data.lifeexpectancy\n",
    "    colors = data.urbanrate\n",
    "    #colors = data.country.map({'Albania':'skyblue','Algeria':'gold','Angola':'palegreen'}) # etc add ,c=colors after area below\n",
    "    data.plot.scatter('alcconsumption', 'suicideper100th', logx = False,\n",
    "                     s=area, c=colors, colormap=matplotlib.cm.get_cmap('Accent_r'), vmin=10.4, vmax=100,\n",
    "                      linewidths=1,edgecolors='k',sharex=False,figsize=(12,9))#, c=colors) # log scale\n",
    "    for level in [5, 10, 15]:\n",
    "        pp.axvline(level, linestyle=':', color='k')\n",
    "    pp.axis(xmin=0, xmax=18, ymin=0, ymax=35)\n",
    "#plot_polityscore(10)\n",
    "\n",
    "interact(plot_polityscore, polityscore=widgets.IntSlider(min=-10,max=10,steps=1,value=10))\n",
    "#interact(plot_polityscore, polityscore = range(-10,10,2))\n",
    "#pp.show()\n",
    "\n",
    "# _r reversed the color bar, sharex=False made x-axis label visible"
   ]
  },
  {
   "cell_type": "code",
   "execution_count": 39,
   "metadata": {},
   "outputs": [
    {
     "data": {
      "text/plain": [
       "array([[<matplotlib.axes._subplots.AxesSubplot object at 0x7faa841bc3c8>,\n",
       "        <matplotlib.axes._subplots.AxesSubplot object at 0x7faa84100240>,\n",
       "        <matplotlib.axes._subplots.AxesSubplot object at 0x7faa841267b8>,\n",
       "        <matplotlib.axes._subplots.AxesSubplot object at 0x7faa840cdd30>],\n",
       "       [<matplotlib.axes._subplots.AxesSubplot object at 0x7faa840fd2e8>,\n",
       "        <matplotlib.axes._subplots.AxesSubplot object at 0x7faa840a3860>,\n",
       "        <matplotlib.axes._subplots.AxesSubplot object at 0x7faa8404add8>,\n",
       "        <matplotlib.axes._subplots.AxesSubplot object at 0x7faa8407c3c8>],\n",
       "       [<matplotlib.axes._subplots.AxesSubplot object at 0x7faa8407c400>,\n",
       "        <matplotlib.axes._subplots.AxesSubplot object at 0x7faa7f78be48>,\n",
       "        <matplotlib.axes._subplots.AxesSubplot object at 0x7faa7f7bb400>,\n",
       "        <matplotlib.axes._subplots.AxesSubplot object at 0x7faa7f762978>],\n",
       "       [<matplotlib.axes._subplots.AxesSubplot object at 0x7faa7f70bef0>,\n",
       "        <matplotlib.axes._subplots.AxesSubplot object at 0x7faa7f7394a8>,\n",
       "        <matplotlib.axes._subplots.AxesSubplot object at 0x7faa7f6e3a20>,\n",
       "        <matplotlib.axes._subplots.AxesSubplot object at 0x7faa7f68df98>]],\n",
       "      dtype=object)"
      ]
     },
     "execution_count": 39,
     "metadata": {},
     "output_type": "execute_result"
    },
    {
     "data": {
      "image/png": "[encoded data removed]",
      "text/plain": [
       "<Figure size 864x648 with 16 Axes>"
      ]
     },
     "metadata": {
      "needs_background": "light"
     },
     "output_type": "display_data"
    }
   ],
   "source": [
    "# plotting a scatter matrix\n",
    "from matplotlib.colors import *\n",
    "import pandas.plotting\n",
    "data = gapminder.loc[gapminder.polityscore == 9, ['lifeexpectancy','alcconsumption','suicideper100th','urbanrate']]\n",
    "pd.plotting.scatter_matrix(data,figsize=(12,9))"
   ]
  },
  {
   "cell_type": "code",
   "execution_count": 40,
   "metadata": {},
   "outputs": [],
   "source": [
    "gapminder['log10_suicideper100th'] = np.log10(data['suicideper100th'])"
   ]
  },
  {
   "cell_type": "code",
   "execution_count": 41,
   "metadata": {},
   "outputs": [
    {
     "data": {
      "text/html": [
       "<div>\n",
       "<style scoped>\n",
       "    .dataframe tbody tr th:only-of-type {\n",
       "        vertical-align: middle;\n",
       "    }\n",
       "\n",
       "    .dataframe tbody tr th {\n",
       "        vertical-align: top;\n",
       "    }\n",
       "\n",
       "    .dataframe thead th {\n",
       "        text-align: right;\n",
       "    }\n",
       "</style>\n",
       "<table border=\"1\" class=\"dataframe\">\n",
       "  <thead>\n",
       "    <tr style=\"text-align: right;\">\n",
       "      <th></th>\n",
       "      <th>country</th>\n",
       "      <th>year</th>\n",
       "      <th>region</th>\n",
       "      <th>population</th>\n",
       "      <th>life_expectancy</th>\n",
       "      <th>age5_surviving</th>\n",
       "      <th>babies_per_woman</th>\n",
       "      <th>gdp_per_capita</th>\n",
       "      <th>gdp_per_day</th>\n",
       "    </tr>\n",
       "  </thead>\n",
       "  <tbody>\n",
       "    <tr>\n",
       "      <th>0</th>\n",
       "      <td>Afghanistan</td>\n",
       "      <td>1800</td>\n",
       "      <td>Asia</td>\n",
       "      <td>3280000.0</td>\n",
       "      <td>28.21</td>\n",
       "      <td>53.142</td>\n",
       "      <td>7.00</td>\n",
       "      <td>603.0</td>\n",
       "      <td>1.650924</td>\n",
       "    </tr>\n",
       "    <tr>\n",
       "      <th>20</th>\n",
       "      <td>Afghanistan</td>\n",
       "      <td>1955</td>\n",
       "      <td>Asia</td>\n",
       "      <td>8270024.0</td>\n",
       "      <td>29.27</td>\n",
       "      <td>60.193</td>\n",
       "      <td>7.67</td>\n",
       "      <td>1125.0</td>\n",
       "      <td>3.080082</td>\n",
       "    </tr>\n",
       "    <tr>\n",
       "      <th>40</th>\n",
       "      <td>Afghanistan</td>\n",
       "      <td>1975</td>\n",
       "      <td>Asia</td>\n",
       "      <td>12582954.0</td>\n",
       "      <td>39.61</td>\n",
       "      <td>72.060</td>\n",
       "      <td>7.67</td>\n",
       "      <td>1201.0</td>\n",
       "      <td>3.288159</td>\n",
       "    </tr>\n",
       "    <tr>\n",
       "      <th>60</th>\n",
       "      <td>Afghanistan</td>\n",
       "      <td>1995</td>\n",
       "      <td>Asia</td>\n",
       "      <td>16772522.0</td>\n",
       "      <td>49.40</td>\n",
       "      <td>84.770</td>\n",
       "      <td>7.83</td>\n",
       "      <td>872.0</td>\n",
       "      <td>2.387406</td>\n",
       "    </tr>\n",
       "    <tr>\n",
       "      <th>80</th>\n",
       "      <td>Afghanistan</td>\n",
       "      <td>2015</td>\n",
       "      <td>Asia</td>\n",
       "      <td>32526562.0</td>\n",
       "      <td>53.80</td>\n",
       "      <td>90.890</td>\n",
       "      <td>4.47</td>\n",
       "      <td>1925.0</td>\n",
       "      <td>5.270363</td>\n",
       "    </tr>\n",
       "    <tr>\n",
       "      <th>100</th>\n",
       "      <td>Albania</td>\n",
       "      <td>1954</td>\n",
       "      <td>Europe</td>\n",
       "      <td>1382881.0</td>\n",
       "      <td>56.59</td>\n",
       "      <td>84.829</td>\n",
       "      <td>6.31</td>\n",
       "      <td>2108.0</td>\n",
       "      <td>5.771389</td>\n",
       "    </tr>\n",
       "    <tr>\n",
       "      <th>120</th>\n",
       "      <td>Albania</td>\n",
       "      <td>1974</td>\n",
       "      <td>Europe</td>\n",
       "      <td>2358467.0</td>\n",
       "      <td>69.35</td>\n",
       "      <td>90.082</td>\n",
       "      <td>4.54</td>\n",
       "      <td>4177.0</td>\n",
       "      <td>11.436003</td>\n",
       "    </tr>\n",
       "    <tr>\n",
       "      <th>140</th>\n",
       "      <td>Albania</td>\n",
       "      <td>1994</td>\n",
       "      <td>Europe</td>\n",
       "      <td>3140634.0</td>\n",
       "      <td>73.60</td>\n",
       "      <td>96.540</td>\n",
       "      <td>2.77</td>\n",
       "      <td>3457.0</td>\n",
       "      <td>9.464750</td>\n",
       "    </tr>\n",
       "    <tr>\n",
       "      <th>160</th>\n",
       "      <td>Albania</td>\n",
       "      <td>2014</td>\n",
       "      <td>Europe</td>\n",
       "      <td>2889676.0</td>\n",
       "      <td>77.90</td>\n",
       "      <td>98.560</td>\n",
       "      <td>1.78</td>\n",
       "      <td>10160.0</td>\n",
       "      <td>27.816564</td>\n",
       "    </tr>\n",
       "    <tr>\n",
       "      <th>180</th>\n",
       "      <td>Algeria</td>\n",
       "      <td>1953</td>\n",
       "      <td>Africa</td>\n",
       "      <td>9405445.0</td>\n",
       "      <td>43.96</td>\n",
       "      <td>73.758</td>\n",
       "      <td>7.65</td>\n",
       "      <td>4077.0</td>\n",
       "      <td>11.162218</td>\n",
       "    </tr>\n",
       "    <tr>\n",
       "      <th>200</th>\n",
       "      <td>Algeria</td>\n",
       "      <td>1973</td>\n",
       "      <td>Africa</td>\n",
       "      <td>15804428.0</td>\n",
       "      <td>53.91</td>\n",
       "      <td>77.660</td>\n",
       "      <td>7.55</td>\n",
       "      <td>7581.0</td>\n",
       "      <td>20.755647</td>\n",
       "    </tr>\n",
       "  </tbody>\n",
       "</table>\n",
       "</div>"
      ],
      "text/plain": [
       "         country  year  region  population  life_expectancy  age5_surviving  \\\n",
       "0    Afghanistan  1800    Asia   3280000.0            28.21          53.142   \n",
       "20   Afghanistan  1955    Asia   8270024.0            29.27          60.193   \n",
       "40   Afghanistan  1975    Asia  12582954.0            39.61          72.060   \n",
       "60   Afghanistan  1995    Asia  16772522.0            49.40          84.770   \n",
       "80   Afghanistan  2015    Asia  32526562.0            53.80          90.890   \n",
       "100      Albania  1954  Europe   1382881.0            56.59          84.829   \n",
       "120      Albania  1974  Europe   2358467.0            69.35          90.082   \n",
       "140      Albania  1994  Europe   3140634.0            73.60          96.540   \n",
       "160      Albania  2014  Europe   2889676.0            77.90          98.560   \n",
       "180      Algeria  1953  Africa   9405445.0            43.96          73.758   \n",
       "200      Algeria  1973  Africa  15804428.0            53.91          77.660   \n",
       "\n",
       "     babies_per_woman  gdp_per_capita  gdp_per_day  \n",
       "0                7.00           603.0     1.650924  \n",
       "20               7.67          1125.0     3.080082  \n",
       "40               7.67          1201.0     3.288159  \n",
       "60               7.83           872.0     2.387406  \n",
       "80               4.47          1925.0     5.270363  \n",
       "100              6.31          2108.0     5.771389  \n",
       "120              4.54          4177.0    11.436003  \n",
       "140              2.77          3457.0     9.464750  \n",
       "160              1.78         10160.0    27.816564  \n",
       "180              7.65          4077.0    11.162218  \n",
       "200              7.55          7581.0    20.755647  "
      ]
     },
     "execution_count": 41,
     "metadata": {},
     "output_type": "execute_result"
    }
   ],
   "source": [
    "gapminder2 = pd.read_csv('gapminder2.csv')\n",
    "\n",
    "gapminder2.loc[0:200:20] #- selects every 20th row up to 200"
   ]
  },
  {
   "cell_type": "code",
   "execution_count": 43,
   "metadata": {},
   "outputs": [
    {
     "data": {
      "text/plain": [
       "<matplotlib.axes._subplots.AxesSubplot at 0x7faa7f4ccdd8>"
      ]
     },
     "execution_count": 43,
     "metadata": {},
     "output_type": "execute_result"
    },
    {
     "data": {
      "image/png": "[encoded data removed]",
      "text/plain": [
       "<Figure size 432x288 with 1 Axes>"
      ]
     },
     "metadata": {
      "needs_background": "light"
     },
     "output_type": "display_data"
    }
   ],
   "source": [
    "gapminder2[gapminder2.year==1965].plot.scatter('babies_per_woman','age5_surviving')"
   ]
  },
  {
   "cell_type": "code",
   "execution_count": 50,
   "metadata": {},
   "outputs": [
    {
     "data": {
      "application/vnd.jupyter.widget-view+json": {
       "model_id": "af28e4eee75e47bb8cb48d8c8dcc9cb5"
      }
     },
     "metadata": {},
     "output_type": "display_data"
    },
    {
     "data": {
      "text/plain": [
       "<function __main__.plotyear>"
      ]
     },
     "execution_count": 50,
     "metadata": {},
     "output_type": "execute_result"
    },
    {
     "data": {
      "image/png": "[encoded data removed]",
      "text/plain": [
       "<Figure size 864x648 with 1 Axes>"
      ]
     },
     "metadata": {
      "needs_background": "light"
     },
     "output_type": "display_data"
    }
   ],
   "source": [
    "from matplotlib.colors import *\n",
    "import pandas.plotting\n",
    "def plotyear(year):\n",
    "    data = gapminder2[gapminder2.year == year]\n",
    "    area = 5e-6*data.population\n",
    "    colors = data.region.map({'Africa':'skyblue','Europe':'gold','America':'palegreen','Asia':'coral'})\n",
    "    data.plot.scatter('babies_per_woman', 'age5_surviving',\n",
    "                     s=area, c=colors,\n",
    "                      linewidths=1,edgecolors='k',figsize=(12,9))\n",
    "    pp.axis(ymin=50, ymax=105, xmin=0, xmax=8)\n",
    "    pp.xlabel('babies per woman')\n",
    "    pp.ylabel('% children alive at 5')\n",
    "interact(plotyear, year=widgets.IntSlider(min=1950,max=2015,steps=1,value=1965))"
   ]
  },
  {
   "cell_type": "code",
   "execution_count": null,
   "metadata": {},
   "outputs": [],
   "source": []
  }
 ],
 "metadata": {
  "kernelspec": {
   "display_name": "Python 3",
   "language": "python",
   "name": "python3"
  },
  "language_info": {
   "codemirror_mode": {
    "name": "ipython",
    "version": 3
   },
   "file_extension": ".py",
   "mimetype": "text/x-python",
   "name": "python",
   "nbconvert_exporter": "python",
   "pygments_lexer": "ipython3",
   "version": "3.7.3"
  }
 },
 "nbformat": 4,
 "nbformat_minor": 2
}
